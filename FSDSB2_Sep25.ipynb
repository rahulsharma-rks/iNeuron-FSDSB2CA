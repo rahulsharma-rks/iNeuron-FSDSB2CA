{
  "nbformat": 4,
  "nbformat_minor": 0,
  "metadata": {
    "colab": {
      "provenance": []
    },
    "kernelspec": {
      "name": "python3",
      "display_name": "Python 3"
    },
    "language_info": {
      "name": "python"
    }
  },
  "cells": [
    {
      "cell_type": "markdown",
      "source": [
        "###Live Assignment No.1\n",
        "1. Find out all the types of error that we have encountered in our lecture and why? Also include the examples.\n",
        "\n",
        "2. Take input A and B and print their sum, mul, div, square of the nos.\n",
        "\n",
        "3. How many reserve keywords are there in python and why we should not use them as a variable name.\n",
        "\n",
        "4. Create email ids with the user inputs. in the following format - lastname.firstname@gmail.com\n",
        "\n",
        "5. Try to print the following lines -\n",
        "Hi I'm Sunny\n",
        "My address is 22\\3\n",
        "I earn 20$ daily.\n",
        "\n",
        "6. Take user input (name, address, date of birth etc) to fill a form for your college and print their email IDs\n",
        "\n",
        "7. Convert the following - \\\n",
        "  \"22.4\" into integer \\\n",
        "  \"22\" into complex no.\n",
        "\n",
        "\n",
        "\n",
        "\n",
        "\n",
        "\n",
        "\n",
        "\n",
        "\n"
      ],
      "metadata": {
        "id": "-wOfqOJ4lxYa"
      }
    },
    {
      "cell_type": "markdown",
      "source": [
        "##Find out all the types of error that we have encountered in our lecture and why? Also include the examples."
      ],
      "metadata": {
        "id": "yFhetnIXqeII"
      }
    },
    {
      "cell_type": "code",
      "source": [
        "print(\"Hello World\")"
      ],
      "metadata": {
        "colab": {
          "base_uri": "https://localhost:8080/"
        },
        "id": "O89ND9MPoZi6",
        "outputId": "918e889e-ce0f-4f2d-dee6-937c8c3e48da"
      },
      "execution_count": 2,
      "outputs": [
        {
          "output_type": "stream",
          "name": "stdout",
          "text": [
            "Hello World\n"
          ]
        }
      ]
    },
    {
      "cell_type": "code",
      "source": [
        "Print(\"Hello World\")"
      ],
      "metadata": {
        "colab": {
          "base_uri": "https://localhost:8080/",
          "height": 171
        },
        "id": "rc4Dd_Luo_-L",
        "outputId": "ec0b461e-568f-407b-df1b-dc85c065f282"
      },
      "execution_count": 3,
      "outputs": [
        {
          "output_type": "error",
          "ename": "NameError",
          "evalue": "ignored",
          "traceback": [
            "\u001b[0;31m---------------------------------------------------------------------------\u001b[0m",
            "\u001b[0;31mNameError\u001b[0m                                 Traceback (most recent call last)",
            "\u001b[0;32m<ipython-input-3-82ee0b7fee85>\u001b[0m in \u001b[0;36m<module>\u001b[0;34m\u001b[0m\n\u001b[0;32m----> 1\u001b[0;31m \u001b[0mPrint\u001b[0m\u001b[0;34m(\u001b[0m\u001b[0;34m\"Hello World\"\u001b[0m\u001b[0;34m)\u001b[0m\u001b[0;34m\u001b[0m\u001b[0;34m\u001b[0m\u001b[0m\n\u001b[0m",
            "\u001b[0;31mNameError\u001b[0m: name 'Print' is not defined"
          ]
        }
      ]
    },
    {
      "cell_type": "markdown",
      "source": [
        "Print is case-sensitive and is reserved keyword."
      ],
      "metadata": {
        "id": "0SvCS-qJpSmQ"
      }
    },
    {
      "cell_type": "code",
      "source": [
        "print(\"Hi my name is \"Rahul\" \")"
      ],
      "metadata": {
        "colab": {
          "base_uri": "https://localhost:8080/",
          "height": 134
        },
        "id": "-8AuE4X3puHz",
        "outputId": "4337565d-bbfe-4a03-bb1b-ee0d7fab24a1"
      },
      "execution_count": 4,
      "outputs": [
        {
          "output_type": "error",
          "ename": "SyntaxError",
          "evalue": "ignored",
          "traceback": [
            "\u001b[0;36m  File \u001b[0;32m\"<ipython-input-4-96c21521d77e>\"\u001b[0;36m, line \u001b[0;32m1\u001b[0m\n\u001b[0;31m    print(\"Hi my name is \"Rahul\" \")\u001b[0m\n\u001b[0m                              ^\u001b[0m\n\u001b[0;31mSyntaxError\u001b[0m\u001b[0;31m:\u001b[0m invalid syntax\n"
          ]
        }
      ]
    },
    {
      "cell_type": "markdown",
      "source": [
        "While printing string, we can use \" \" or  ' '. \n",
        "If it's multiline comment, we can use \"\"\" \"\"\" and enter text. "
      ],
      "metadata": {
        "id": "fmfc5x_dqX5W"
      }
    },
    {
      "cell_type": "code",
      "source": [
        "ten* = 10"
      ],
      "metadata": {
        "colab": {
          "base_uri": "https://localhost:8080/",
          "height": 134
        },
        "id": "iHP4WpcVrvK3",
        "outputId": "6f802413-dde1-42ab-d1a1-78d5c46f42e1"
      },
      "execution_count": 5,
      "outputs": [
        {
          "output_type": "error",
          "ename": "SyntaxError",
          "evalue": "ignored",
          "traceback": [
            "\u001b[0;36m  File \u001b[0;32m\"<ipython-input-5-186f8d3ec400>\"\u001b[0;36m, line \u001b[0;32m1\u001b[0m\n\u001b[0;31m    ten* = 10\u001b[0m\n\u001b[0m         ^\u001b[0m\n\u001b[0;31mSyntaxError\u001b[0m\u001b[0;31m:\u001b[0m invalid syntax\n"
          ]
        }
      ]
    },
    {
      "cell_type": "markdown",
      "source": [
        "* estrik(*) is a special character and variable should not carry any special characters like ^ % $ ! @ # ^ & * ( )"
      ],
      "metadata": {
        "id": "TW7udxl7rz2W"
      }
    },
    {
      "cell_type": "code",
      "source": [
        "ten%number = 10"
      ],
      "metadata": {
        "colab": {
          "base_uri": "https://localhost:8080/",
          "height": 134
        },
        "id": "nGSmhEsnrxve",
        "outputId": "94c482b3-27a3-4c6c-e9c9-83563892465d"
      },
      "execution_count": 6,
      "outputs": [
        {
          "output_type": "error",
          "ename": "SyntaxError",
          "evalue": "ignored",
          "traceback": [
            "\u001b[0;36m  File \u001b[0;32m\"<ipython-input-6-3233643d8db9>\"\u001b[0;36m, line \u001b[0;32m1\u001b[0m\n\u001b[0;31m    ten%number = 10\u001b[0m\n\u001b[0m                   ^\u001b[0m\n\u001b[0;31mSyntaxError\u001b[0m\u001b[0;31m:\u001b[0m can't assign to operator\n"
          ]
        }
      ]
    },
    {
      "cell_type": "markdown",
      "source": [
        "% is an operator and it cannot be used while creating variable. "
      ],
      "metadata": {
        "id": "5sVcGWt7sUno"
      }
    },
    {
      "cell_type": "code",
      "source": [
        "10num = 10"
      ],
      "metadata": {
        "colab": {
          "base_uri": "https://localhost:8080/",
          "height": 134
        },
        "id": "PAcebaGksfAT",
        "outputId": "d4bd5048-3ffd-4588-a81c-ed308c1b3a4d"
      },
      "execution_count": 7,
      "outputs": [
        {
          "output_type": "error",
          "ename": "SyntaxError",
          "evalue": "ignored",
          "traceback": [
            "\u001b[0;36m  File \u001b[0;32m\"<ipython-input-7-213608daabf0>\"\u001b[0;36m, line \u001b[0;32m1\u001b[0m\n\u001b[0;31m    10num = 10\u001b[0m\n\u001b[0m        ^\u001b[0m\n\u001b[0;31mSyntaxError\u001b[0m\u001b[0;31m:\u001b[0m invalid syntax\n"
          ]
        }
      ]
    },
    {
      "cell_type": "markdown",
      "source": [
        "Numbers can be added in the end of variable name, but it cannot be started with it, it will throw Invalid Syntax Error. "
      ],
      "metadata": {
        "id": "Ey71VxeWslUg"
      }
    },
    {
      "cell_type": "code",
      "source": [
        "ten number = 10"
      ],
      "metadata": {
        "colab": {
          "base_uri": "https://localhost:8080/",
          "height": 134
        },
        "id": "Y-ji0GwVAER7",
        "outputId": "78c03cc3-c902-4ec7-f190-1fb7b6adc62b"
      },
      "execution_count": 43,
      "outputs": [
        {
          "output_type": "error",
          "ename": "SyntaxError",
          "evalue": "ignored",
          "traceback": [
            "\u001b[0;36m  File \u001b[0;32m\"<ipython-input-43-91c87c3e0e8f>\"\u001b[0;36m, line \u001b[0;32m1\u001b[0m\n\u001b[0;31m    ten number = 10\u001b[0m\n\u001b[0m             ^\u001b[0m\n\u001b[0;31mSyntaxError\u001b[0m\u001b[0;31m:\u001b[0m invalid syntax\n"
          ]
        }
      ]
    },
    {
      "cell_type": "markdown",
      "source": [
        "Varibale name cannot have space between them, it will throw Invalid syntax error. "
      ],
      "metadata": {
        "id": "vw3eNJ57AI0y"
      }
    },
    {
      "cell_type": "code",
      "source": [
        "\"Day\" + 1"
      ],
      "metadata": {
        "colab": {
          "base_uri": "https://localhost:8080/",
          "height": 171
        },
        "id": "jZ_WEgPNs7yg",
        "outputId": "a018a4e7-903a-40f7-f295-ef7805e70ad5"
      },
      "execution_count": 8,
      "outputs": [
        {
          "output_type": "error",
          "ename": "TypeError",
          "evalue": "ignored",
          "traceback": [
            "\u001b[0;31m---------------------------------------------------------------------------\u001b[0m",
            "\u001b[0;31mTypeError\u001b[0m                                 Traceback (most recent call last)",
            "\u001b[0;32m<ipython-input-8-d0dcd09775fb>\u001b[0m in \u001b[0;36m<module>\u001b[0;34m\u001b[0m\n\u001b[0;32m----> 1\u001b[0;31m \u001b[0;34m\"Day\"\u001b[0m \u001b[0;34m+\u001b[0m \u001b[0;36m1\u001b[0m\u001b[0;34m\u001b[0m\u001b[0;34m\u001b[0m\u001b[0m\n\u001b[0m",
            "\u001b[0;31mTypeError\u001b[0m: can only concatenate str (not \"int\") to str"
          ]
        }
      ]
    },
    {
      "cell_type": "markdown",
      "source": [
        "String can only be concatenated with string data type. \n",
        "\n",
        "Concatenation can take place if both data types are simillar"
      ],
      "metadata": {
        "id": "U6_epv5bs_HH"
      }
    },
    {
      "cell_type": "code",
      "source": [
        "one = 1\n",
        "One = 11\n",
        "print(ONE)"
      ],
      "metadata": {
        "colab": {
          "base_uri": "https://localhost:8080/",
          "height": 207
        },
        "id": "Dfnn1jiPtS3y",
        "outputId": "075dc7e5-84bc-4f40-f472-510b31ac57f9"
      },
      "execution_count": 9,
      "outputs": [
        {
          "output_type": "error",
          "ename": "NameError",
          "evalue": "ignored",
          "traceback": [
            "\u001b[0;31m---------------------------------------------------------------------------\u001b[0m",
            "\u001b[0;31mNameError\u001b[0m                                 Traceback (most recent call last)",
            "\u001b[0;32m<ipython-input-9-8e27123e2ed1>\u001b[0m in \u001b[0;36m<module>\u001b[0;34m\u001b[0m\n\u001b[1;32m      1\u001b[0m \u001b[0mone\u001b[0m \u001b[0;34m=\u001b[0m \u001b[0;36m1\u001b[0m\u001b[0;34m\u001b[0m\u001b[0;34m\u001b[0m\u001b[0m\n\u001b[1;32m      2\u001b[0m \u001b[0mOne\u001b[0m \u001b[0;34m=\u001b[0m \u001b[0;36m11\u001b[0m\u001b[0;34m\u001b[0m\u001b[0;34m\u001b[0m\u001b[0m\n\u001b[0;32m----> 3\u001b[0;31m \u001b[0mprint\u001b[0m\u001b[0;34m(\u001b[0m\u001b[0mONE\u001b[0m\u001b[0;34m)\u001b[0m\u001b[0;34m\u001b[0m\u001b[0;34m\u001b[0m\u001b[0m\n\u001b[0m",
            "\u001b[0;31mNameError\u001b[0m: name 'ONE' is not defined"
          ]
        }
      ]
    },
    {
      "cell_type": "markdown",
      "source": [
        "one and One are different variables and both are unique. When we print ONE, it throws error 'ONE is' not difined as it is not defined in program. "
      ],
      "metadata": {
        "id": "soPOeusutiO8"
      }
    },
    {
      "cell_type": "code",
      "source": [
        "print = 12 # as a variable\n",
        "type(print)"
      ],
      "metadata": {
        "colab": {
          "base_uri": "https://localhost:8080/"
        },
        "id": "omV6Cbawt-b3",
        "outputId": "8d64978a-d082-4052-865f-86504c45ae3f"
      },
      "execution_count": 10,
      "outputs": [
        {
          "output_type": "execute_result",
          "data": {
            "text/plain": [
              "int"
            ]
          },
          "metadata": {},
          "execution_count": 10
        }
      ]
    },
    {
      "cell_type": "code",
      "source": [
        "print(\"hello\")"
      ],
      "metadata": {
        "colab": {
          "base_uri": "https://localhost:8080/",
          "height": 171
        },
        "id": "4E59oxqduAgG",
        "outputId": "28419085-9b47-4141-8197-8d7c4529d131"
      },
      "execution_count": 11,
      "outputs": [
        {
          "output_type": "error",
          "ename": "TypeError",
          "evalue": "ignored",
          "traceback": [
            "\u001b[0;31m---------------------------------------------------------------------------\u001b[0m",
            "\u001b[0;31mTypeError\u001b[0m                                 Traceback (most recent call last)",
            "\u001b[0;32m<ipython-input-11-43d0290e3b7d>\u001b[0m in \u001b[0;36m<module>\u001b[0;34m\u001b[0m\n\u001b[0;32m----> 1\u001b[0;31m \u001b[0mprint\u001b[0m\u001b[0;34m(\u001b[0m\u001b[0;34m\"hello\"\u001b[0m\u001b[0;34m)\u001b[0m\u001b[0;34m\u001b[0m\u001b[0;34m\u001b[0m\u001b[0m\n\u001b[0m",
            "\u001b[0;31mTypeError\u001b[0m: 'int' object is not callable"
          ]
        }
      ]
    },
    {
      "cell_type": "markdown",
      "source": [
        "print is a reserverd keyword and it cannot be used to assign any variable. "
      ],
      "metadata": {
        "id": "kjVfAd5RuFjw"
      }
    },
    {
      "cell_type": "code",
      "source": [
        "del print"
      ],
      "metadata": {
        "id": "GI3-w2kZuEOj"
      },
      "execution_count": 12,
      "outputs": []
    },
    {
      "cell_type": "code",
      "source": [
        "print(\"Hello\")"
      ],
      "metadata": {
        "colab": {
          "base_uri": "https://localhost:8080/"
        },
        "id": "8EOEOzMnuVY2",
        "outputId": "023c03d1-b5a6-4563-fc99-9bb3bf0b8194"
      },
      "execution_count": 13,
      "outputs": [
        {
          "output_type": "stream",
          "name": "stdout",
          "text": [
            "Hello\n"
          ]
        }
      ]
    },
    {
      "cell_type": "code",
      "source": [
        "name = input(\"Name: \") \n",
        "place = input(\"place: \")\n",
        "year_of_birth = input(\"year_of_birth: \")\n",
        "\n",
        "age = 2022 - year_of_birth\n",
        "\n",
        "print(f\"\"\"\n",
        "My name is: {name}\n",
        "I live at: {place}\n",
        "{name} is of age: {age}\n",
        "\"\"\")"
      ],
      "metadata": {
        "colab": {
          "base_uri": "https://localhost:8080/",
          "height": 299
        },
        "id": "Ll9Uwg8GuiXQ",
        "outputId": "62306ade-d24a-47de-ac6d-c4ccce82e974"
      },
      "execution_count": 14,
      "outputs": [
        {
          "name": "stdout",
          "output_type": "stream",
          "text": [
            "Name: rahul\n",
            "place: mbz\n",
            "year_of_birth: 1997\n"
          ]
        },
        {
          "output_type": "error",
          "ename": "TypeError",
          "evalue": "ignored",
          "traceback": [
            "\u001b[0;31m---------------------------------------------------------------------------\u001b[0m",
            "\u001b[0;31mTypeError\u001b[0m                                 Traceback (most recent call last)",
            "\u001b[0;32m<ipython-input-14-ab0dc42ddec2>\u001b[0m in \u001b[0;36m<module>\u001b[0;34m\u001b[0m\n\u001b[1;32m      3\u001b[0m \u001b[0myear_of_birth\u001b[0m \u001b[0;34m=\u001b[0m \u001b[0minput\u001b[0m\u001b[0;34m(\u001b[0m\u001b[0;34m\"year_of_birth: \"\u001b[0m\u001b[0;34m)\u001b[0m\u001b[0;34m\u001b[0m\u001b[0;34m\u001b[0m\u001b[0m\n\u001b[1;32m      4\u001b[0m \u001b[0;34m\u001b[0m\u001b[0m\n\u001b[0;32m----> 5\u001b[0;31m \u001b[0mage\u001b[0m \u001b[0;34m=\u001b[0m \u001b[0;36m2022\u001b[0m \u001b[0;34m-\u001b[0m \u001b[0myear_of_birth\u001b[0m\u001b[0;34m\u001b[0m\u001b[0;34m\u001b[0m\u001b[0m\n\u001b[0m\u001b[1;32m      6\u001b[0m \u001b[0;34m\u001b[0m\u001b[0m\n\u001b[1;32m      7\u001b[0m print(f\"\"\"\n",
            "\u001b[0;31mTypeError\u001b[0m: unsupported operand type(s) for -: 'int' and 'str'"
          ]
        }
      ]
    },
    {
      "cell_type": "markdown",
      "source": [
        "If we don't mention the data type, it is going to be take as string. To resolve this error, we can convert the datatype. "
      ],
      "metadata": {
        "id": "KBxPzl40urQn"
      }
    },
    {
      "cell_type": "code",
      "source": [
        "name = input(\"Name: \") \n",
        "place = input(\"place: \")\n",
        "year_of_birth = int(input(\"year_of_birth: \"))\n",
        "\n",
        "age = 2022 - year_of_birth\n",
        "\n",
        "print(f\"\"\"\n",
        "My name is: {name}\n",
        "I live at: {place}\n",
        "{name} is of age: {age}\n",
        "\"\"\")"
      ],
      "metadata": {
        "colab": {
          "base_uri": "https://localhost:8080/"
        },
        "id": "WFe5b947u4ex",
        "outputId": "61be5a2d-bdc5-4b1f-d762-eb9c3a01dd7a"
      },
      "execution_count": 15,
      "outputs": [
        {
          "output_type": "stream",
          "name": "stdout",
          "text": [
            "Name: rahul\n",
            "place: mbz\n",
            "year_of_birth: 1997\n",
            "\n",
            "My name is: rahul\n",
            "I live at: mbz\n",
            "rahul is of age: 25\n",
            "\n"
          ]
        }
      ]
    },
    {
      "cell_type": "code",
      "source": [
        "A = float(input(\"Enter value of A: \"))\n",
        "B = int(input(\"Enter value of B: \")) \n",
        "\n",
        "print(f\"Sum of A and B is: {A+B}\")"
      ],
      "metadata": {
        "colab": {
          "base_uri": "https://localhost:8080/",
          "height": 262
        },
        "id": "PPnY9v8UvLYd",
        "outputId": "3b55ad3b-69a7-4d4a-8b50-1c2f6033d9a0"
      },
      "execution_count": 16,
      "outputs": [
        {
          "name": "stdout",
          "output_type": "stream",
          "text": [
            "Enter value of A: 10.22\n",
            "Enter value of B: 12.5\n"
          ]
        },
        {
          "output_type": "error",
          "ename": "ValueError",
          "evalue": "ignored",
          "traceback": [
            "\u001b[0;31m---------------------------------------------------------------------------\u001b[0m",
            "\u001b[0;31mValueError\u001b[0m                                Traceback (most recent call last)",
            "\u001b[0;32m<ipython-input-16-e81dbf4b117a>\u001b[0m in \u001b[0;36m<module>\u001b[0;34m\u001b[0m\n\u001b[1;32m      1\u001b[0m \u001b[0mA\u001b[0m \u001b[0;34m=\u001b[0m \u001b[0mfloat\u001b[0m\u001b[0;34m(\u001b[0m\u001b[0minput\u001b[0m\u001b[0;34m(\u001b[0m\u001b[0;34m\"Enter value of A: \"\u001b[0m\u001b[0;34m)\u001b[0m\u001b[0;34m)\u001b[0m\u001b[0;34m\u001b[0m\u001b[0;34m\u001b[0m\u001b[0m\n\u001b[0;32m----> 2\u001b[0;31m \u001b[0mB\u001b[0m \u001b[0;34m=\u001b[0m \u001b[0mint\u001b[0m\u001b[0;34m(\u001b[0m\u001b[0minput\u001b[0m\u001b[0;34m(\u001b[0m\u001b[0;34m\"Enter value of B: \"\u001b[0m\u001b[0;34m)\u001b[0m\u001b[0;34m)\u001b[0m\u001b[0;34m\u001b[0m\u001b[0;34m\u001b[0m\u001b[0m\n\u001b[0m\u001b[1;32m      3\u001b[0m \u001b[0;34m\u001b[0m\u001b[0m\n\u001b[1;32m      4\u001b[0m \u001b[0mprint\u001b[0m\u001b[0;34m(\u001b[0m\u001b[0;34mf\"Sum of A and B is: {A+B}\"\u001b[0m\u001b[0;34m)\u001b[0m\u001b[0;34m\u001b[0m\u001b[0;34m\u001b[0m\u001b[0m\n",
            "\u001b[0;31mValueError\u001b[0m: invalid literal for int() with base 10: '12.5'"
          ]
        }
      ]
    },
    {
      "cell_type": "markdown",
      "source": [
        "Variable accepts only int input, but we have given float as a input, which resulted in error. "
      ],
      "metadata": {
        "id": "bWmwG4dCvX7j"
      }
    },
    {
      "cell_type": "code",
      "source": [
        "# String to integer\n",
        "A = \"50.22\" # entering float\n",
        "print(f\"data type before: {type(A)}, value of A: {A}\")\n",
        "A = int(A) # trying to convert into integer\n",
        "print(f\"data type after: {type(A)}, value of A: {A}\")"
      ],
      "metadata": {
        "colab": {
          "base_uri": "https://localhost:8080/",
          "height": 244
        },
        "id": "05UITQzEvUOz",
        "outputId": "9370ecb2-dfd3-43ec-a3d0-d696ca2194aa"
      },
      "execution_count": 17,
      "outputs": [
        {
          "output_type": "stream",
          "name": "stdout",
          "text": [
            "data type before: <class 'str'>, value of A: 50.22\n"
          ]
        },
        {
          "output_type": "error",
          "ename": "ValueError",
          "evalue": "ignored",
          "traceback": [
            "\u001b[0;31m---------------------------------------------------------------------------\u001b[0m",
            "\u001b[0;31mValueError\u001b[0m                                Traceback (most recent call last)",
            "\u001b[0;32m<ipython-input-17-44a89d3a265f>\u001b[0m in \u001b[0;36m<module>\u001b[0;34m\u001b[0m\n\u001b[1;32m      2\u001b[0m \u001b[0mA\u001b[0m \u001b[0;34m=\u001b[0m \u001b[0;34m\"50.22\"\u001b[0m \u001b[0;31m# entering float\u001b[0m\u001b[0;34m\u001b[0m\u001b[0;34m\u001b[0m\u001b[0m\n\u001b[1;32m      3\u001b[0m \u001b[0mprint\u001b[0m\u001b[0;34m(\u001b[0m\u001b[0;34mf\"data type before: {type(A)}, value of A: {A}\"\u001b[0m\u001b[0;34m)\u001b[0m\u001b[0;34m\u001b[0m\u001b[0;34m\u001b[0m\u001b[0m\n\u001b[0;32m----> 4\u001b[0;31m \u001b[0mA\u001b[0m \u001b[0;34m=\u001b[0m \u001b[0mint\u001b[0m\u001b[0;34m(\u001b[0m\u001b[0mA\u001b[0m\u001b[0;34m)\u001b[0m \u001b[0;31m# trying to convert into integer\u001b[0m\u001b[0;34m\u001b[0m\u001b[0;34m\u001b[0m\u001b[0m\n\u001b[0m\u001b[1;32m      5\u001b[0m \u001b[0mprint\u001b[0m\u001b[0;34m(\u001b[0m\u001b[0;34mf\"data type after: {type(A)}, value of A: {A}\"\u001b[0m\u001b[0;34m)\u001b[0m\u001b[0;34m\u001b[0m\u001b[0;34m\u001b[0m\u001b[0m\n",
            "\u001b[0;31mValueError\u001b[0m: invalid literal for int() with base 10: '50.22'"
          ]
        }
      ]
    },
    {
      "cell_type": "markdown",
      "source": [
        "We are passing float value as string into float. "
      ],
      "metadata": {
        "id": "h2H3knrZvylZ"
      }
    },
    {
      "cell_type": "code",
      "source": [
        "# float to integer\n",
        "A = 50.22 \n",
        "print(f\"data type before: {type(A)}, value of A: {A}\")\n",
        "A = int(A) # convert into integer\n",
        "print(f\"data type after: {type(A)}, value of A: {A}\")"
      ],
      "metadata": {
        "colab": {
          "base_uri": "https://localhost:8080/"
        },
        "id": "ejR-q5AbvtuL",
        "outputId": "f729fe51-4a79-431c-9257-8111da00599f"
      },
      "execution_count": 18,
      "outputs": [
        {
          "output_type": "stream",
          "name": "stdout",
          "text": [
            "data type before: <class 'float'>, value of A: 50.22\n",
            "data type after: <class 'int'>, value of A: 50\n"
          ]
        }
      ]
    },
    {
      "cell_type": "code",
      "source": [
        "# empty string to int\n",
        "A = \"\"\n",
        "print(f\"data type before: {type(A)}, value of A: {A}\")\n",
        "A = int(A)\n",
        "print(f\"data type after: {type(A)}, value of A: {A}\")"
      ],
      "metadata": {
        "colab": {
          "base_uri": "https://localhost:8080/",
          "height": 244
        },
        "id": "RfBSDJvxwmFc",
        "outputId": "c9c5cc2a-1bf6-4b2a-f5b9-b7c47051d857"
      },
      "execution_count": 19,
      "outputs": [
        {
          "output_type": "stream",
          "name": "stdout",
          "text": [
            "data type before: <class 'str'>, value of A: \n"
          ]
        },
        {
          "output_type": "error",
          "ename": "ValueError",
          "evalue": "ignored",
          "traceback": [
            "\u001b[0;31m---------------------------------------------------------------------------\u001b[0m",
            "\u001b[0;31mValueError\u001b[0m                                Traceback (most recent call last)",
            "\u001b[0;32m<ipython-input-19-a8248b2f88e9>\u001b[0m in \u001b[0;36m<module>\u001b[0;34m\u001b[0m\n\u001b[1;32m      2\u001b[0m \u001b[0mA\u001b[0m \u001b[0;34m=\u001b[0m \u001b[0;34m\"\"\u001b[0m\u001b[0;34m\u001b[0m\u001b[0;34m\u001b[0m\u001b[0m\n\u001b[1;32m      3\u001b[0m \u001b[0mprint\u001b[0m\u001b[0;34m(\u001b[0m\u001b[0;34mf\"data type before: {type(A)}, value of A: {A}\"\u001b[0m\u001b[0;34m)\u001b[0m\u001b[0;34m\u001b[0m\u001b[0;34m\u001b[0m\u001b[0m\n\u001b[0;32m----> 4\u001b[0;31m \u001b[0mA\u001b[0m \u001b[0;34m=\u001b[0m \u001b[0mint\u001b[0m\u001b[0;34m(\u001b[0m\u001b[0mA\u001b[0m\u001b[0;34m)\u001b[0m\u001b[0;34m\u001b[0m\u001b[0;34m\u001b[0m\u001b[0m\n\u001b[0m\u001b[1;32m      5\u001b[0m \u001b[0mprint\u001b[0m\u001b[0;34m(\u001b[0m\u001b[0;34mf\"data type after: {type(A)}, value of A: {A}\"\u001b[0m\u001b[0;34m)\u001b[0m\u001b[0;34m\u001b[0m\u001b[0;34m\u001b[0m\u001b[0m\n",
            "\u001b[0;31mValueError\u001b[0m: invalid literal for int() with base 10: ''"
          ]
        }
      ]
    },
    {
      "cell_type": "markdown",
      "source": [
        "We are passing empty string, which cannot be done"
      ],
      "metadata": {
        "id": "W5-7QhnHwt1N"
      }
    },
    {
      "cell_type": "code",
      "source": [],
      "metadata": {
        "id": "BrSFPO4Ywo4m"
      },
      "execution_count": null,
      "outputs": []
    },
    {
      "cell_type": "markdown",
      "source": [
        "##Take input A and B and print their sum, mul, div, square of the nos.\n"
      ],
      "metadata": {
        "id": "USJo2qrbx9nI"
      }
    },
    {
      "cell_type": "code",
      "source": [
        "A = int(input(\"Enter value of A: \"))\n",
        "B = int(input(\"Enter value of B: \"))\n",
        "print(f\"Sum : {A + B}\")\n",
        "print(f\"Multiplication: {A * B}\")\n",
        "print(f\"Divison: {A / B}\")\n",
        "print(f\"Square of A: {A**2}\")\n",
        "print(f\"Square of B: {B**2}\")"
      ],
      "metadata": {
        "colab": {
          "base_uri": "https://localhost:8080/"
        },
        "id": "FfYvBMi2x_qs",
        "outputId": "17aac307-a7b5-4b78-e8ff-3658d2451c57"
      },
      "execution_count": 20,
      "outputs": [
        {
          "output_type": "stream",
          "name": "stdout",
          "text": [
            "Enter value of A: 100\n",
            "Enter value of B: 3\n",
            "Sum : 103\n",
            "Multiplication: 300\n",
            "Divison: 33.333333333333336\n",
            "Square of A: 10000\n",
            "Square of B: 9\n"
          ]
        }
      ]
    },
    {
      "cell_type": "markdown",
      "source": [
        "##How many reserve keywords are there in python and why we should not use them as a variable name.\n"
      ],
      "metadata": {
        "id": "K7RguDT3yy0w"
      }
    },
    {
      "cell_type": "markdown",
      "source": [
        "Reserved keywords in python are : and, del, from, not, while,\n",
        "as, elif,  global,or, with, assert, else, if, pass, yield,\n",
        "break, except, import, print, class, exec,  in, raise,  \n",
        "continue, finally, is,return, def, for, lambda, try\n",
        "\n",
        "Using reserve keyword as variable can affect the flow or working of function associated with the keyword. "
      ],
      "metadata": {
        "id": "VjqEbxf6y2A1"
      }
    },
    {
      "cell_type": "code",
      "source": [
        "#Example\n",
        "print = \"hello\"\n",
        "type(print)"
      ],
      "metadata": {
        "colab": {
          "base_uri": "https://localhost:8080/"
        },
        "id": "4O_R8cqf0fxD",
        "outputId": "ecf370da-60d3-42bb-c1b8-13aa59e1d167"
      },
      "execution_count": 21,
      "outputs": [
        {
          "output_type": "execute_result",
          "data": {
            "text/plain": [
              "str"
            ]
          },
          "metadata": {},
          "execution_count": 21
        }
      ]
    },
    {
      "cell_type": "code",
      "source": [
        "print(\"hello\")"
      ],
      "metadata": {
        "colab": {
          "base_uri": "https://localhost:8080/",
          "height": 171
        },
        "id": "mNCMgQo9y0X4",
        "outputId": "1e87239b-eb16-4a9a-e519-b27105a033c8"
      },
      "execution_count": 22,
      "outputs": [
        {
          "output_type": "error",
          "ename": "TypeError",
          "evalue": "ignored",
          "traceback": [
            "\u001b[0;31m---------------------------------------------------------------------------\u001b[0m",
            "\u001b[0;31mTypeError\u001b[0m                                 Traceback (most recent call last)",
            "\u001b[0;32m<ipython-input-22-43d0290e3b7d>\u001b[0m in \u001b[0;36m<module>\u001b[0;34m\u001b[0m\n\u001b[0;32m----> 1\u001b[0;31m \u001b[0mprint\u001b[0m\u001b[0;34m(\u001b[0m\u001b[0;34m\"hello\"\u001b[0m\u001b[0;34m)\u001b[0m\u001b[0;34m\u001b[0m\u001b[0;34m\u001b[0m\u001b[0m\n\u001b[0m",
            "\u001b[0;31mTypeError\u001b[0m: 'str' object is not callable"
          ]
        }
      ]
    },
    {
      "cell_type": "code",
      "source": [
        "del print"
      ],
      "metadata": {
        "id": "r8Bjm6ah0xm3"
      },
      "execution_count": 23,
      "outputs": []
    },
    {
      "cell_type": "code",
      "source": [
        "print(\"Hello\")"
      ],
      "metadata": {
        "colab": {
          "base_uri": "https://localhost:8080/"
        },
        "id": "CZLsi4t800-g",
        "outputId": "4260291f-60ab-4a0a-ffbc-0a81c9e35ac9"
      },
      "execution_count": 24,
      "outputs": [
        {
          "output_type": "stream",
          "name": "stdout",
          "text": [
            "Hello\n"
          ]
        }
      ]
    },
    {
      "cell_type": "code",
      "source": [],
      "metadata": {
        "id": "ky_qu4iL021O"
      },
      "execution_count": null,
      "outputs": []
    },
    {
      "cell_type": "markdown",
      "source": [
        "##Create email ids with the user inputs. in the following format - lastname.firstname@gmail.com"
      ],
      "metadata": {
        "id": "wHdZrSoi0_St"
      }
    },
    {
      "cell_type": "code",
      "source": [
        "firstname = input(\"Enter FirstName: \")\n",
        "lastname = input(\"Enter LastName: \")\n",
        "print(f\"{lastname}.{firstname}@gmail.com\")"
      ],
      "metadata": {
        "colab": {
          "base_uri": "https://localhost:8080/"
        },
        "id": "o7dVJS6D1A0O",
        "outputId": "56f730d5-f2e2-443d-ebb0-edafbc963415"
      },
      "execution_count": 25,
      "outputs": [
        {
          "output_type": "stream",
          "name": "stdout",
          "text": [
            "Enter FirstName: rahul\n",
            "Enter LastName: sharma\n",
            "sharma.rahul@gmail.com\n"
          ]
        }
      ]
    },
    {
      "cell_type": "code",
      "source": [],
      "metadata": {
        "id": "qB6AKXga1grw"
      },
      "execution_count": null,
      "outputs": []
    },
    {
      "cell_type": "markdown",
      "source": [
        "##Try to print the following lines - Hi I'm Sunny My address is 22\\3 I earn 20$ daily."
      ],
      "metadata": {
        "id": "onQRB6s-1owl"
      }
    },
    {
      "cell_type": "code",
      "source": [
        "name, address, earn = \"Rahul\", 22/3, 20$\n",
        "print(f\"\"\"\n",
        "Hi I'm {name}\n",
        "My Address is {address}\n",
        "I earn {earn} daily\n",
        "\"\"\")"
      ],
      "metadata": {
        "colab": {
          "base_uri": "https://localhost:8080/",
          "height": 134
        },
        "id": "XLUoKYZp1q2i",
        "outputId": "f4cb30ee-2b1b-4d8b-96fa-71068edcfb72"
      },
      "execution_count": 31,
      "outputs": [
        {
          "output_type": "error",
          "ename": "SyntaxError",
          "evalue": "ignored",
          "traceback": [
            "\u001b[0;36m  File \u001b[0;32m\"<ipython-input-31-d6f4918c8ab4>\"\u001b[0;36m, line \u001b[0;32m1\u001b[0m\n\u001b[0;31m    name, address, earn = \"Rahul\", 22/3, 20$\u001b[0m\n\u001b[0m                                           ^\u001b[0m\n\u001b[0;31mSyntaxError\u001b[0m\u001b[0;31m:\u001b[0m invalid syntax\n"
          ]
        }
      ]
    },
    {
      "cell_type": "markdown",
      "source": [
        "* / is a operator and it will print 7.333333333333333 if not converted to string. \n",
        "* $ is a special character and it gives error, if not converted to string. "
      ],
      "metadata": {
        "id": "bWaYl1I84IHO"
      }
    },
    {
      "cell_type": "code",
      "source": [
        "name, address, earn = \"Rahul\", \"22/3\", \"20$\"\n",
        "print(f\"\"\"\n",
        "Hi I'm {name}\n",
        "My Address is {address}\n",
        "I earn {earn} daily\n",
        "\"\"\")"
      ],
      "metadata": {
        "colab": {
          "base_uri": "https://localhost:8080/"
        },
        "id": "q6gsfFfL2Td7",
        "outputId": "de69e0bc-ba5f-4f80-e0fc-25d971e3ec1c"
      },
      "execution_count": 33,
      "outputs": [
        {
          "output_type": "stream",
          "name": "stdout",
          "text": [
            "\n",
            "Hi I'm Rahul\n",
            "My Address is 22/3\n",
            "I earn 20$ daily\n",
            "\n"
          ]
        }
      ]
    },
    {
      "cell_type": "markdown",
      "source": [
        "##Take user input (name, address, date of birth etc) to fill a form for your college and print their email IDs"
      ],
      "metadata": {
        "id": "craCVwr12l_c"
      }
    },
    {
      "cell_type": "code",
      "source": [
        "name = input(\"Enter Name: \")\n",
        "address = input(\"Enter Address: \")\n",
        "date_of_birth = int(input(\"Enter Year of Birth:\"))\n",
        "current_year = 2022\n",
        "college_id = input(\"Enter College ID: \")\n",
        "age = current_year - date_of_birth\n",
        "print(f\"Age of {name} is {age}\")\n",
        "print(f\"Email ID: {name}.{address}.{college_id}@mail.com\")"
      ],
      "metadata": {
        "colab": {
          "base_uri": "https://localhost:8080/"
        },
        "id": "bYR8fyut2nf-",
        "outputId": "e0dfe00b-deef-428c-b3c5-88a3e57fc075"
      },
      "execution_count": 30,
      "outputs": [
        {
          "output_type": "stream",
          "name": "stdout",
          "text": [
            "Enter Name: rahul\n",
            "Enter Address: mbz\n",
            "Enter Year of Birth:1997\n",
            "Enter College ID: 1234\n",
            "Age of rahul is 25\n",
            "Email ID: rahul.mbz.1234@mail.com\n"
          ]
        }
      ]
    },
    {
      "cell_type": "code",
      "source": [],
      "metadata": {
        "id": "ZzODlutz38vr"
      },
      "execution_count": null,
      "outputs": []
    },
    {
      "cell_type": "markdown",
      "source": [
        "##Convert the following -\n",
        "* \"22.4\" into integer\n",
        "* \"22\" into complex no."
      ],
      "metadata": {
        "id": "y22Syn6O4voH"
      }
    },
    {
      "cell_type": "code",
      "source": [
        "#\"22.4\" into integer\n",
        "A = 22.4\n",
        "print(f\"Before conversion {type(A)} and value {A}\")\n",
        "A = int(A)\n",
        "print(f\"After conversion {type(A)} and value {A}\")"
      ],
      "metadata": {
        "colab": {
          "base_uri": "https://localhost:8080/"
        },
        "id": "by0fU_yg4yxw",
        "outputId": "2b4dde1a-aa24-496b-c6c5-551fcc38feec"
      },
      "execution_count": 38,
      "outputs": [
        {
          "output_type": "stream",
          "name": "stdout",
          "text": [
            "Before conversion <class 'float'> and value 22.4\n",
            "After conversion <class 'int'> and value 22\n"
          ]
        }
      ]
    },
    {
      "cell_type": "code",
      "source": [
        "#\"22\" into complex no.\n",
        "B = \"22\"\n",
        "print(f\"Before conversion {type(B)} and value {B}\")\n",
        "B = complex(B)\n",
        "print(f\"Before conversion {type(B)} and value {B}\")"
      ],
      "metadata": {
        "colab": {
          "base_uri": "https://localhost:8080/"
        },
        "id": "y7L-kV4z5MP-",
        "outputId": "ca581526-a26b-4711-a218-30149730341c"
      },
      "execution_count": 41,
      "outputs": [
        {
          "output_type": "stream",
          "name": "stdout",
          "text": [
            "Before conversion <class 'str'> and value 22\n",
            "Before conversion <class 'complex'> and value (22+0j)\n"
          ]
        }
      ]
    },
    {
      "cell_type": "code",
      "source": [
        "#\"22\" into complex no.\n",
        "B = 22\n",
        "print(f\"Before conversion {type(B)} and value {B}\")\n",
        "B = complex(B)\n",
        "print(f\"Before conversion {type(B)} and value {B}\")"
      ],
      "metadata": {
        "colab": {
          "base_uri": "https://localhost:8080/"
        },
        "id": "FxMiHyhG8BAw",
        "outputId": "e358eb2b-d5cd-4a06-9618-af6c81c9a90f"
      },
      "execution_count": 42,
      "outputs": [
        {
          "output_type": "stream",
          "name": "stdout",
          "text": [
            "Before conversion <class 'int'> and value 22\n",
            "Before conversion <class 'complex'> and value (22+0j)\n"
          ]
        }
      ]
    }
  ]
}