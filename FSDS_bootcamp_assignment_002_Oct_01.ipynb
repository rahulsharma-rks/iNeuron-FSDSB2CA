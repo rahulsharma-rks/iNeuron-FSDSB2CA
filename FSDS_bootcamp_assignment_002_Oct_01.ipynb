{
  "nbformat": 4,
  "nbformat_minor": 0,
  "metadata": {
    "colab": {
      "provenance": [],
      "collapsed_sections": [
        "MDj1M34XUSIr"
      ]
    },
    "kernelspec": {
      "name": "python3",
      "display_name": "Python 3"
    },
    "language_info": {
      "name": "python"
    }
  },
  "cells": [
    {
      "cell_type": "markdown",
      "source": [
        "# ASSIGNMENTS - Compulsory\n",
        "## Send it before 0000 hrs IST or 12 AM Wednesday\n",
        "\n",
        "## NOTE: Evaluation will be done before next class.\n",
        "\n",
        "## HOW TO SUBMIT: -\n",
        "Download this notebook, Solve it and upload in the google form given in the mail."
      ],
      "metadata": {
        "id": "cyOfbWCdOjEr"
      }
    },
    {
      "cell_type": "markdown",
      "source": [
        "\n",
        "1. What is indentation error? Why indentation is important? Give one simple example?\n",
        "\n",
        "2. Correct the following code and write the comment where you made the correction?\n",
        "\n",
        "  ```python\n",
        "  class_started = bool(input(\"Hey friend, is class started?: [0-False/1-True]\"))\n",
        "\n",
        "  if class_started:\n",
        "      print(\"Since class started...\")\n",
        "      print(\"Lets concentrate\")\n",
        "  else:\n",
        "      print(\"Since class is not started...\")\n",
        "      print(\"let's revise\")    \n",
        "  ```\n",
        "\n",
        "  **HINT:** Refer your data type conversion class\n",
        "\n",
        "3. Use if else condition to verify that dataype of `input()` method in python is always string.\n",
        "\n",
        "4. Take 3 variables and assign integer values to them. Find the largest variable, by only using the if and else conditions.\n",
        "\n",
        "\n",
        "5. What would be the solution?\n",
        "    1. True\n",
        "    2. False\n",
        "\n",
        "    ```python\n",
        "    a = 6\n",
        "    b = 10\n",
        "    print( not ( not a == 10 or not b == 10) )\n",
        "    ```\n",
        "    \n",
        "6. Find the answer as well as find out the reason behind the result? -\n",
        "    - case 1:\n",
        "        ```python\n",
        "        A = 5.0\n",
        "        B = 10/2\n",
        "        print(A is B)\n",
        "        ```\n",
        "    - case 2:\n",
        "        ```python\n",
        "        A = 5.0\n",
        "        B = int(10/2)\n",
        "        print(A is B)\n",
        "        ```\n",
        "    - case 3:\n",
        "        ```python\n",
        "        A = 5.0\n",
        "        B = float(10/2)\n",
        "        print(A is B)\n",
        "        ```"
      ],
      "metadata": {
        "id": "GT4IytkJMNa-"
      }
    },
    {
      "cell_type": "markdown",
      "source": [
        "### Try to understand the following examples and answer the question based on it - \n",
        "    \n",
        "**Arithmatic Operators**\n",
        "\n",
        "|Operation|Meaning|\n",
        "|:-:|:-:|\n",
        "| **+** |addition|\n",
        "| **-** |subtraction|\n",
        "| **\\*** |multiplication|\n",
        "| **/** |true division|\n",
        "| **//** |integer division|\n",
        "| **%** |the modulo operator|\n",
        "\n",
        "\n",
        "Here `+`, `-`, `*`, `/` are regular arithmatic operators. Lets look at the `//` and `%` operators\n",
        "\n",
        "Usecase or examples - \n",
        "    \n",
        "```python\n",
        "var_a = 5\n",
        "var_b = 25\n",
        "integer_division = var_b // var_a\n",
        "print(f\"integer division: {var_b}/{var_a}={integer_division}\")\n",
        "```\n",
        "\n",
        "OUTPUT: integer division: 25/5=5\n",
        "\n",
        "```python\n",
        "var_a = 3\n",
        "var_b = 25\n",
        "integer_division = var_b // var_a\n",
        "print(f\"integer division: {var_b}/{var_a}={integer_division}\")\n",
        "```\n",
        "\n",
        "OUTPUT: integer division: 25/3=8\n",
        "\n",
        "```python\n",
        "var_a = 5\n",
        "var_b = 25\n",
        "remainder = var_b % var_a\n",
        "print(f\"remainder: {var_b}/{var_a} is {remainder}\")\n",
        "```\n",
        "\n",
        "OUTPUT: remainder: 25/5 is 0\n",
        "\n",
        "```python\n",
        "var_a = 3\n",
        "var_b = 25\n",
        "remainder = var_b % var_a\n",
        "print(f\"remainder: {var_b}/{var_a} is {remainder}\")\n",
        "```\n",
        "\n",
        "OUTPUT: remainder: 25/3 is 1\n",
        "\n"
      ],
      "metadata": {
        "id": "a_4kbBVWNY-4"
      }
    },
    {
      "cell_type": "markdown",
      "source": [
        "### Answer below questions on the above theory - \n",
        "\n",
        "7. Write a program that asks the user to enter a number. You should print out a message to the user, either “That number is divisible by either 3 or 5”, or “That number is not divisible by either 3 or 5”. Be sure to consider the data type of the input you are taking in from the user. Use a single if/else block to solve this problem.\n",
        "\n",
        "8. Take user input for length and width. Then calculate the area of rectangle. Also print as per length and width whether its a square of rectangle.\n",
        "\n",
        "9. Take two variable radius_1 and radius_2 and calculate the area of circle_1 and circle_2. Also print which circle has large area. If area is equal then print area is equal.\n",
        "\n",
        "10. Check whether a year is leap year or not. Use nested if...else to solve this problem. A leap year is exactly divisible by 4 except for century years (years ending with 00). The century year is a leap year only if it is perfectly divisible by 400."
      ],
      "metadata": {
        "id": "v288WPlMNxmM"
      }
    },
    {
      "cell_type": "markdown",
      "source": [
        "#<b>Solutions</b>"
      ],
      "metadata": {
        "id": "-RF8wr7JULA8"
      }
    },
    {
      "cell_type": "markdown",
      "source": [
        "#1. What is indentation error? Why indentation is important? Give one simple example?\n",
        "\n",
        "Ans: Python is a procedural language. Indentation is used to segregate code into a single group. Languages like C, C++ and Java uses { } to define block, but python uses spaces for indentation. \n",
        "\n",
        "We can use space or tab for indentation. \n",
        "\n",
        "Importance of Indentation:\n",
        "* With indentation, code can be easily read and understood.\n",
        "* Indetation helps code to execute on the existing rules. \n",
        "\n",
        "\n"
      ],
      "metadata": {
        "id": "MDj1M34XUSIr"
      }
    },
    {
      "cell_type": "code",
      "execution_count": 1,
      "metadata": {
        "id": "XumyqFp6MHnv",
        "colab": {
          "base_uri": "https://localhost:8080/",
          "height": 134
        },
        "outputId": "4ac6c0a4-31bb-4824-ffd2-2b5cef17f26e"
      },
      "outputs": [
        {
          "output_type": "error",
          "ename": "IndentationError",
          "evalue": "ignored",
          "traceback": [
            "\u001b[0;36m  File \u001b[0;32m\"<ipython-input-1-6a9ec3f20200>\"\u001b[0;36m, line \u001b[0;32m4\u001b[0m\n\u001b[0;31m    print(f\"Hello {user}\")\u001b[0m\n\u001b[0m        ^\u001b[0m\n\u001b[0;31mIndentationError\u001b[0m\u001b[0;31m:\u001b[0m expected an indented block\n"
          ]
        }
      ],
      "source": [
        "#Example\n",
        "name = \"rahul\"\n",
        "if name == \"rahul\":\n",
        "print(f\"Hello {user}\")\n",
        "else:\n",
        "  print(\"Hello User\")\n"
      ]
    },
    {
      "cell_type": "code",
      "source": [
        "#Example\n",
        "name = \"rahul\"\n",
        "if name == \"rahul\":\n",
        "  print(f\"Hello {name}\")\n",
        "else:\n",
        "  print(\"Hello User\")\n"
      ],
      "metadata": {
        "colab": {
          "base_uri": "https://localhost:8080/"
        },
        "id": "4aDH40sRXv67",
        "outputId": "15a35795-02a7-4822-cfef-1c4dc2ecf1b9"
      },
      "execution_count": 2,
      "outputs": [
        {
          "output_type": "stream",
          "name": "stdout",
          "text": [
            "Hello rahul\n"
          ]
        }
      ]
    },
    {
      "cell_type": "markdown",
      "source": [
        "# 2. Correct the following code and write the comment where you made the correction?\n",
        "```python\n",
        "class_started = bool(input(\"Hey friend, is class started?: [0-False/1-True]\"))\n",
        "\n",
        "if class_started:\n",
        "   print(\"Since class started...\")\n",
        "   print(\"Lets concentrate\")\n",
        "else:\n",
        "   print(\"Since class is not started...\")\n",
        "   print(\"let's revise\") \n",
        "```  \n",
        "HINT: Refer your data type conversion class"
      ],
      "metadata": {
        "id": "9M4pHeI4X9wb"
      }
    },
    {
      "cell_type": "markdown",
      "source": [
        "##Explanation\n",
        "* Python considers non-empty string True. \n",
        "* Using bool(input()) and input() != ' ' will return in True, even if input is not True. \n",
        "* We can directly compare strings, whether input is True or False. \n",
        "\n"
      ],
      "metadata": {
        "id": "uxyWGvOvuDcY"
      }
    },
    {
      "cell_type": "code",
      "source": [
        "class_started = input(\"Hey friend, is class started?: [0-False/1-True]\")\n",
        "print(f\"Input: {class_started} and its data type: {type(class_started)}\")\n",
        "#Taking input as string and comparing it with value True and False.\n",
        "\n",
        "if class_started == \"True\":\n",
        "   print(\"Since class started...\")\n",
        "   print(\"Lets concentrate\")\n",
        "else:\n",
        "   print(\"Since class is not started...\")\n",
        "   print(\"let's revise\") "
      ],
      "metadata": {
        "colab": {
          "base_uri": "https://localhost:8080/"
        },
        "id": "u66qj6xvYC_u",
        "outputId": "96944387-9ea3-4304-f503-00a19124f3f8"
      },
      "execution_count": 35,
      "outputs": [
        {
          "output_type": "stream",
          "name": "stdout",
          "text": [
            "Hey friend, is class started?: [0-False/1-True]False\n",
            "Input: False and its data type: <class 'str'>\n",
            "Since class is not started...\n",
            "let's revise\n"
          ]
        }
      ]
    },
    {
      "cell_type": "code",
      "source": [
        "class_started = input(\"Hey friend, is class started?: [0-False/1-True]\")\n",
        "print(f\"Input: {class_started} and its data type: {type(class_started)}\")\n",
        "\n",
        "class_started = bool(class_started)\n",
        "print(f\"Input after conversion: {class_started} and its data type: {type(class_started)}\")\n",
        "\n",
        "if class_started == \"True\":\n",
        "   print(\"Since class started...\")\n",
        "   print(\"Lets concentrate\")\n",
        "else:\n",
        "   print(\"Since class is not started...\")\n",
        "   print(\"let's revise\") "
      ],
      "metadata": {
        "colab": {
          "base_uri": "https://localhost:8080/"
        },
        "id": "3rXryp45v6YY",
        "outputId": "fb2adba1-ff45-4781-cdaa-ce8ddc974fa5"
      },
      "execution_count": 103,
      "outputs": [
        {
          "output_type": "stream",
          "name": "stdout",
          "text": [
            "Hey friend, is class started?: [0-False/1-True]True\n",
            "Input: True and its data type: <class 'str'>\n",
            "Input after conversion: True and its data type: <class 'bool'>\n",
            "Since class is not started...\n",
            "let's revise\n"
          ]
        }
      ]
    },
    {
      "cell_type": "markdown",
      "source": [
        "# 3.Use if else condition to verify that dataype of input() method in python is always string.\n",
        "\n",
        "By default input function always return string. We can try casting it using \n",
        "```python\n",
        "int(input(\"Enter:\")\n",
        "float(input(\"Enter:\")\n",
        "str(input(\"Enter:\")\n",
        "\n",
        "```"
      ],
      "metadata": {
        "id": "_CDlt1Msaxv5"
      }
    },
    {
      "cell_type": "code",
      "source": [
        "name = int(input(\"Input: \"))\n",
        "print(f\"Input: {name} and data type: {type(name)}\")\n",
        "\n",
        "if type(name) == str:\n",
        "  print(\"Input is String.\")\n",
        "else:\n",
        "  print(\"Input is not String.\")"
      ],
      "metadata": {
        "colab": {
          "base_uri": "https://localhost:8080/"
        },
        "id": "fq5eivk_aw27",
        "outputId": "55a4d04b-ec77-4a75-fb57-dee816cd0a10"
      },
      "execution_count": 107,
      "outputs": [
        {
          "output_type": "stream",
          "name": "stdout",
          "text": [
            "Input: 1\n",
            "Input: 1 and data type: <class 'int'>\n",
            "Input is not String.\n"
          ]
        }
      ]
    },
    {
      "cell_type": "code",
      "source": [
        "name = input(\"Input: \")\n",
        "print(f\"Input: {name} and data type: {type(name)}\")\n",
        "\n",
        "if type(name) == str:\n",
        "  print(\"Input is String.\")\n",
        "else:\n",
        "  print(\"Input is not String.\")"
      ],
      "metadata": {
        "colab": {
          "base_uri": "https://localhost:8080/"
        },
        "id": "k5qN53KSpKgp",
        "outputId": "988c5147-9d09-45e3-9c18-e53edb2db81f"
      },
      "execution_count": 133,
      "outputs": [
        {
          "output_type": "stream",
          "name": "stdout",
          "text": [
            "Input: 1\n",
            "Input: 1 and data type: <class 'str'>\n",
            "Input is String.\n"
          ]
        }
      ]
    },
    {
      "cell_type": "code",
      "source": [
        "name = str(input(\"Input: \"))\n",
        "print(f\"Input: {name} and data type: {type(name)}\")\n",
        "\n",
        "if type(name) == str:\n",
        "  print(\"Input is String.\")\n",
        "else:\n",
        "  print(\"Input is not String.\")"
      ],
      "metadata": {
        "colab": {
          "base_uri": "https://localhost:8080/"
        },
        "id": "rfaLiAB6s2Ne",
        "outputId": "ae4983bc-7791-4249-dcd3-e521e5b973d7"
      },
      "execution_count": 135,
      "outputs": [
        {
          "output_type": "stream",
          "name": "stdout",
          "text": [
            "Input: rahul\n",
            "Input: rahul and data type: <class 'str'>\n",
            "Input is String.\n"
          ]
        }
      ]
    },
    {
      "cell_type": "markdown",
      "source": [
        "# 4. Take 3 variables and assign integer values to them. Find the largest variable, by only using the if and else conditions.\n"
      ],
      "metadata": {
        "id": "QsVgwDVDp9lj"
      }
    },
    {
      "cell_type": "code",
      "source": [
        "A = 5\n",
        "B = 10\n",
        "C = 70\n",
        "if (A > B) and (A > C):\n",
        "  print(\"A is Greater than B and C\")\n",
        "if (B > A) and (B > C):\n",
        "  print(\"B is Greater than A and C\")\n",
        "else:\n",
        "  print(\"C is Greater than A and B\")\n"
      ],
      "metadata": {
        "colab": {
          "base_uri": "https://localhost:8080/"
        },
        "id": "npthjEEtqCii",
        "outputId": "aed70331-ed51-4553-b786-2f16d7c649d9"
      },
      "execution_count": 94,
      "outputs": [
        {
          "output_type": "stream",
          "name": "stdout",
          "text": [
            "C is Greater than A and B\n"
          ]
        }
      ]
    },
    {
      "cell_type": "markdown",
      "source": [
        "# 5. What would be the solution?\n",
        "    1. True\n",
        "    2. False\n",
        "\n",
        "    "
      ],
      "metadata": {
        "id": "oStGyXyP4p1H"
      }
    },
    {
      "cell_type": "markdown",
      "source": [
        "```python\n",
        "    a = 6\n",
        "    b = 10\n",
        "    print( not ( not a == 10 or not b == 10) )\n",
        "```"
      ],
      "metadata": {
        "id": "7YoaRkca45ui"
      }
    },
    {
      "cell_type": "code",
      "source": [
        "a = 6\n",
        "b = 10\n",
        "print( not ( not a == 10 or not b == 10) )"
      ],
      "metadata": {
        "colab": {
          "base_uri": "https://localhost:8080/"
        },
        "id": "MJeQO8w44rFZ",
        "outputId": "0230ceb8-de12-4fd4-9ed2-85bbedbf5dee"
      },
      "execution_count": 95,
      "outputs": [
        {
          "output_type": "stream",
          "name": "stdout",
          "text": [
            "False\n"
          ]
        }
      ]
    },
    {
      "cell_type": "markdown",
      "source": [
        "# 6. Find the answer as well as find out the reason behind the result? -\n",
        "    "
      ],
      "metadata": {
        "id": "xbSoZd_t5eUy"
      }
    },
    {
      "cell_type": "markdown",
      "source": [
        "    - case 1:\n",
        "        ```python\n",
        "        A = 5.0\n",
        "        B = 10/2\n",
        "        print(A is B)\n",
        "        ```\n",
        "    - case 2:\n",
        "        ```python\n",
        "        A = 5.0\n",
        "        B = int(10/2)\n",
        "        print(A is B)\n",
        "        ```\n",
        "    - case 3:\n",
        "        ```python\n",
        "        A = 5.0\n",
        "        B = float(10/2)\n",
        "        print(A is B)\n",
        "        ```"
      ],
      "metadata": {
        "id": "-6vIfK9K5i-Z"
      }
    },
    {
      "cell_type": "code",
      "source": [
        "#Case-1\n",
        "A = 5.0\n",
        "B = 10/2\n",
        "print(\"B: \", B)\n",
        "print(id(A))\n",
        "print(id(B))\n",
        "print(A is B)"
      ],
      "metadata": {
        "colab": {
          "base_uri": "https://localhost:8080/"
        },
        "id": "w7zuI5yo5oHL",
        "outputId": "a8f09e85-9101-4aa9-b535-a90aa83b968e"
      },
      "execution_count": 96,
      "outputs": [
        {
          "output_type": "stream",
          "name": "stdout",
          "text": [
            "B:  5.0\n",
            "140514287015952\n",
            "140514287016336\n",
            "False\n"
          ]
        }
      ]
    },
    {
      "cell_type": "markdown",
      "source": [
        "* Output is False because A and B doesn't point to same object. "
      ],
      "metadata": {
        "id": "sCUM_W485wjr"
      }
    },
    {
      "cell_type": "code",
      "source": [
        "#Case-2\n",
        "A = 5.0\n",
        "B = int(10/2)\n",
        "print(\"B: \", B)\n",
        "print(id(A))\n",
        "print(id(B))\n",
        "\n",
        "print(A is B)"
      ],
      "metadata": {
        "colab": {
          "base_uri": "https://localhost:8080/"
        },
        "id": "xM0J7XbQ6pLA",
        "outputId": "03ec13a8-9eb9-4ac8-f537-d37deb2be4a2"
      },
      "execution_count": 97,
      "outputs": [
        {
          "output_type": "stream",
          "name": "stdout",
          "text": [
            "B:  5\n",
            "140514287017328\n",
            "11122720\n",
            "False\n"
          ]
        }
      ]
    },
    {
      "cell_type": "markdown",
      "source": [
        "* Output is False because A and B doesn't point to same object.\n",
        "* Variable A is a float and variable B is converted to int after divison. "
      ],
      "metadata": {
        "id": "MnFFzOXR65Ka"
      }
    },
    {
      "cell_type": "code",
      "source": [
        "#Case-3\n",
        "A = 5.0\n",
        "B = float(10/2)\n",
        "print(\"B: \", B)\n",
        "print(id(A))\n",
        "print(id(B))\n",
        "\n",
        "print(A is B)"
      ],
      "metadata": {
        "colab": {
          "base_uri": "https://localhost:8080/"
        },
        "id": "NxW1fp5K7XGL",
        "outputId": "bb5559dd-2983-4476-ffcb-4018e4ad78ab"
      },
      "execution_count": 98,
      "outputs": [
        {
          "output_type": "stream",
          "name": "stdout",
          "text": [
            "B:  5.0\n",
            "140514287017872\n",
            "140514287016336\n",
            "False\n"
          ]
        }
      ]
    },
    {
      "cell_type": "markdown",
      "source": [
        "* Output is False because A and B doesn't point to same object.\n",
        "* Variable A is a float and variable B is converted to int after divison. "
      ],
      "metadata": {
        "id": "wlIewEsIjN-N"
      }
    },
    {
      "cell_type": "markdown",
      "source": [
        "# 7. Write a program that asks the user to enter a number. You should print out a message to the user, either “That number is divisible by either 3 or 5”, or “That number is not divisible by either 3 or 5”. Be sure to consider the data type of the input you are taking in from the user. Use a single if/else block to solve this problem."
      ],
      "metadata": {
        "id": "dqHKwPTIRt0n"
      }
    },
    {
      "cell_type": "code",
      "source": [
        "A = int(input(\"Enter value of A: \"))\n",
        "\n",
        "if (A % 3 == 0) or (A % 5 == 0):\n",
        "  print(\"That number is divisible by either 3 or 5\")\n",
        "else:\n",
        "  print(\"That number is not divisible by either 3 or 5\")"
      ],
      "metadata": {
        "colab": {
          "base_uri": "https://localhost:8080/"
        },
        "id": "zXs_mXRbRsnY",
        "outputId": "c527f1b1-875d-4a1a-f85e-c081cc3f57b7"
      },
      "execution_count": 131,
      "outputs": [
        {
          "output_type": "stream",
          "name": "stdout",
          "text": [
            "Enter value of A: 7\n",
            "That number is not divisible by either 3 or 5\n"
          ]
        }
      ]
    },
    {
      "cell_type": "markdown",
      "source": [
        "# 8. Take user input for length and width. Then calculate the area of rectangle. Also print as per length and width whether its a square of rectangle."
      ],
      "metadata": {
        "id": "Tp9it1PTVOxQ"
      }
    },
    {
      "cell_type": "code",
      "source": [
        "length = int(input(\"Enter Length: \"))\n",
        "width = int(input(\"Enter Width: \"))\n",
        "area_rectangle = length * width\n",
        "\n",
        "if length == width:\n",
        "  print(\"It's Square\")\n",
        "else:\n",
        "  print(\"It's Rectangle\")\n",
        "  print(f\"Area of Rectangle: {area_rectangle}\")"
      ],
      "metadata": {
        "colab": {
          "base_uri": "https://localhost:8080/"
        },
        "id": "yjCEJ2MOVpbG",
        "outputId": "a35c7260-d563-4549-9885-f34e5f7ec710"
      },
      "execution_count": 64,
      "outputs": [
        {
          "output_type": "stream",
          "name": "stdout",
          "text": [
            "Enter Length: 5\n",
            "Enter Width: 9\n",
            "It's Rectangle\n",
            "Area of Rectangle: 45\n"
          ]
        }
      ]
    },
    {
      "cell_type": "markdown",
      "source": [
        "# 9. Take two variable radius_1 and radius_2 and calculate the area of circle_1 and circle_2. Also print which circle has large area. If area is equal then print area is equal."
      ],
      "metadata": {
        "id": "DfLaoSuiVRVu"
      }
    },
    {
      "cell_type": "code",
      "source": [
        "radius_1 = float(input(\"Enter radius for Circle_1: \"))\n",
        "radius_2 = float(input(\"Enter radius for Circle_2: \"))\n",
        "pie = 3.14\n",
        "area_circle1 = pie * radius_1 * radius_1\n",
        "area_circle2 = pie * radius_2 * radius_2\n",
        "\n",
        "print(f\"Area of Circle1: {area_circle1} and Area of Circle2: {area_circle2}\")\n",
        "\n",
        "if area_circle1 > area_circle2:\n",
        "  print(\"Circle1 has Larger Area.\")\n",
        "else:\n",
        "  print(\"Circle2 has Larger Area.\")\n",
        "\n",
        "if area_circle1 == area_circle2:\n",
        "  print(\"Area of both circles are Equal.\")\n",
        "\n"
      ],
      "metadata": {
        "colab": {
          "base_uri": "https://localhost:8080/"
        },
        "id": "BRivHo2kYoB2",
        "outputId": "3c6cc74f-9492-4db7-d656-5e8d032a7138"
      },
      "execution_count": 132,
      "outputs": [
        {
          "output_type": "stream",
          "name": "stdout",
          "text": [
            "Enter radius for Circle_1: 6\n",
            "Enter radius for Circle_2: 7\n",
            "Area of Circle1: 113.03999999999999 and Area of Circle2: 153.86\n",
            "Circle2 has Larger Area.\n"
          ]
        }
      ]
    },
    {
      "cell_type": "markdown",
      "source": [
        "#10. Check whether a year is leap year or not. Use nested if...else to solve this problem. A leap year is exactly divisible by 4 except for century years (years ending with 00). The century year is a leap year only if it is perfectly divisible by 400."
      ],
      "metadata": {
        "id": "frfOQBMmVYyO"
      }
    },
    {
      "cell_type": "code",
      "source": [
        "\n",
        "year = int(input(\"Enter Year: \"))\n",
        "\n",
        "if year % 4 == 0:\n",
        "  if year % 100 == 0: #Century Year\n",
        "    if year % 400 == 0:\n",
        "      print(\"Leap Year\")\n",
        "    else:\n",
        "      print(\"Not Leap Year\")\n",
        "  else:\n",
        "    print(\"Leap Year\")\n",
        "else:\n",
        "  print(\"Not Leap Year\")\n"
      ],
      "metadata": {
        "colab": {
          "base_uri": "https://localhost:8080/"
        },
        "id": "WBjky3oWc5nO",
        "outputId": "adc5b18d-0a31-4e8e-f021-5cc0758cfacf"
      },
      "execution_count": 84,
      "outputs": [
        {
          "output_type": "stream",
          "name": "stdout",
          "text": [
            "Enter Year: 2020\n",
            "Leap Year\n"
          ]
        }
      ]
    },
    {
      "cell_type": "code",
      "source": [],
      "metadata": {
        "id": "77Bj96I2drmH"
      },
      "execution_count": 81,
      "outputs": []
    }
  ]
}