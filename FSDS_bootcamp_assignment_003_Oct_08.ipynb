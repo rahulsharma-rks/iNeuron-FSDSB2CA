{
  "nbformat": 4,
  "nbformat_minor": 0,
  "metadata": {
    "colab": {
      "provenance": [],
      "collapsed_sections": []
    },
    "kernelspec": {
      "name": "python3",
      "display_name": "Python 3"
    },
    "language_info": {
      "name": "python"
    }
  },
  "cells": [
    {
      "cell_type": "markdown",
      "source": [
        "# ASSIGNMENTS - Compulsory\n",
        "## Send it before 0000 hrs IST or 12 AM Wednesday\n",
        "\n",
        "## NOTE: Evaluation will be done before next class.\n",
        "\n",
        "## HOW TO SUBMIT: -\n",
        "Download this notebook, Solve it and upload in the google form given in the mail."
      ],
      "metadata": {
        "id": "cyOfbWCdOjEr"
      }
    },
    {
      "cell_type": "markdown",
      "source": [
        "## Python String Manipulation\n",
        "\n",
        "1. Count the number of times `iNeuron` appears in the string.\n",
        "```python\n",
        "text = \"Welcome to iNeuron, You are a part of FSDS Bootcamp 2 in iNeuron. I hope you are enjoying the course by iNeuron\"\n",
        "```\n",
        "2. Check if position `5` to `11` ends with the phrase `iNeuron.` in the string \n",
        "```python\n",
        "txt = \"Hello, welcome to FSDS 2.0 at iNeuron.\"\n",
        "```\n",
        "3. Write a program that takes your full name as input and displays the abbreviations of the first and middle names except the last name which is displayed as it is. For example, if your name is Sunny Bhaveen Chandra, then the output should be S.B.Chandra.\n",
        "\n",
        "4. Join all items in a list into a string, using a hash(`#`) character as separator:\n",
        "```python\n",
        "LIST = [\"My\", \"name\", \"is\", \"Rishav\", \"Dash\"]\n",
        "```\n",
        "5. Write example for the following string manipulation function,\n",
        "\n",
        "  ```\n",
        "  - isdecimal()\n",
        "  - islower()\n",
        "  - isupper()\n",
        "  - isalpha()\n",
        "  - isnumeric()\n",
        "\n",
        "  ```\n",
        "6. Indian PAN card format follows the following formats - \n",
        "    - `AYEPC7894X`\n",
        "    - `ABCDE9999Y`\n",
        "  Take user input for PAN_CARD and validate as per the above example.\n"
      ],
      "metadata": {
        "id": "GT4IytkJMNa-"
      }
    },
    {
      "cell_type": "markdown",
      "source": [
        "#Solutions\n"
      ],
      "metadata": {
        "id": "mcN8rMaWOSio"
      }
    },
    {
      "cell_type": "markdown",
      "source": [
        "# 1. Count the number of times iNeuron appears in the string.\n",
        "\n",
        "```python\n",
        "text = \"Welcome to iNeuron, You are a part of FSDS Bootcamp 2 in iNeuron. I hope you are enjoying the course by iNeuron\"\n",
        "```"
      ],
      "metadata": {
        "id": "ZK4qJINMQI8U"
      }
    },
    {
      "cell_type": "code",
      "source": [
        "text = \"Welcome to iNeuron, You are a part of FSDS Bootcamp 2 in iNeuron. I hope you are enjoying the course by iNeuron\"\n",
        "\n",
        "print(f\"iNeuron appeared: {text.count('iNeuron')} times.\")"
      ],
      "metadata": {
        "id": "KwVni9gipNi-",
        "colab": {
          "base_uri": "https://localhost:8080/"
        },
        "outputId": "34def16b-7a83-4b50-fa2c-ed3f479b5ece"
      },
      "execution_count": 10,
      "outputs": [
        {
          "output_type": "stream",
          "name": "stdout",
          "text": [
            "iNeuron appeared: 3 times.\n"
          ]
        }
      ]
    },
    {
      "cell_type": "markdown",
      "source": [
        "# 2.Check if position 5 to 11 ends with the phrase iNeuron. in the string\n",
        "\n",
        "```python\n",
        "txt = \"Hello, welcome to FSDS 2.0 at iNeuron.\"\n",
        "```"
      ],
      "metadata": {
        "id": "DPWMpq6FRsJz"
      }
    },
    {
      "cell_type": "code",
      "source": [
        "txt = \"Hello, welcome to FSDS 2.0 at iNeuron.\"\n",
        "print(txt[5:11] == \"iNeuron\")\n"
      ],
      "metadata": {
        "colab": {
          "base_uri": "https://localhost:8080/"
        },
        "id": "UvtLgj8ySMqS",
        "outputId": "a9da96ad-6d04-4a10-ce91-abf8c81fc873"
      },
      "execution_count": 12,
      "outputs": [
        {
          "output_type": "stream",
          "name": "stdout",
          "text": [
            "False\n"
          ]
        }
      ]
    },
    {
      "cell_type": "markdown",
      "source": [
        "# 3.Write a program that takes your full name as input and displays the abbreviations of the first and middle names except the last name which is displayed as it is. For example, if your name is Sunny Bhaveen Chandra, then the output should be S.B.Chandra."
      ],
      "metadata": {
        "id": "eVFH2822XI-B"
      }
    },
    {
      "cell_type": "code",
      "source": [
        "\n",
        "fullName = input(\"Enter your Full Name:\").title()\n",
        "first_name, middle_name, sur_name = fullName.split(\" \") \n",
        "print(f\"First Name: {first_name}, Middle Name: {middle_name}, Last Name: {sur_name}\")\n",
        "print(\"--------------------------\")\n",
        "print(f\"Abbreviations of Name: {first_name[0]}.{middle_name[0]}.{sur_name}\")\n"
      ],
      "metadata": {
        "colab": {
          "base_uri": "https://localhost:8080/"
        },
        "id": "ykXYlZNtXIhT",
        "outputId": "757c5f33-ecb3-478c-9793-1b8ed55b85a3"
      },
      "execution_count": 13,
      "outputs": [
        {
          "output_type": "stream",
          "name": "stdout",
          "text": [
            "Enter your Full Name:rahul kumar sharma\n",
            "First Name: Rahul, Middle Name: Kumar, Last Name: Sharma\n",
            "--------------------------\n",
            "Abbreviations of Name: R.K.Sharma\n"
          ]
        }
      ]
    },
    {
      "cell_type": "markdown",
      "source": [
        "# 4. Join all items in a list into a string, using a hash(`#`) character as separator:\n",
        "```python\n",
        "LIST = [\"My\", \"name\", \"is\", \"Rishav\", \"Dash\"]\n",
        "```"
      ],
      "metadata": {
        "id": "zoWIC-fleKeT"
      }
    },
    {
      "cell_type": "code",
      "source": [
        "LIST = [\"My\", \"name\", \"is\", \"Rishav\", \"Dash\"]\n",
        "\n",
        "outPut = \"#\".join(LIST)\n",
        "print(outPut)"
      ],
      "metadata": {
        "colab": {
          "base_uri": "https://localhost:8080/"
        },
        "id": "EDL4PhnfZFAK",
        "outputId": "e82d56b3-4fa3-4af8-b7db-e93a9badcfd1"
      },
      "execution_count": 14,
      "outputs": [
        {
          "output_type": "stream",
          "name": "stdout",
          "text": [
            "My#name#is#Rishav#Dash\n"
          ]
        }
      ]
    },
    {
      "cell_type": "markdown",
      "source": [
        "# 5. Write example for the following string manipulation function,\n",
        "\n",
        "  ```\n",
        "  - isdecimal()\n",
        "  - islower()\n",
        "  - isupper()\n",
        "  - isalpha()\n",
        "  - isnumeric()\n",
        "\n",
        "  ```"
      ],
      "metadata": {
        "id": "VEEliP-Sg2wR"
      }
    },
    {
      "cell_type": "code",
      "source": [
        "# isdecimal()\n",
        "A = \"7\"\n",
        "print(f\"A isDecimal: {A.isdecimal()}\")"
      ],
      "metadata": {
        "colab": {
          "base_uri": "https://localhost:8080/"
        },
        "id": "DMfC45aXg4lg",
        "outputId": "54e2282f-27c4-441f-e090-1c3ab1a87698"
      },
      "execution_count": 15,
      "outputs": [
        {
          "output_type": "stream",
          "name": "stdout",
          "text": [
            "A isDecimal: True\n"
          ]
        }
      ]
    },
    {
      "cell_type": "code",
      "source": [
        "# islower()\n",
        "name = \"rahul\"\n",
        "print(name.islower())"
      ],
      "metadata": {
        "colab": {
          "base_uri": "https://localhost:8080/"
        },
        "id": "YmFJtarhjqi0",
        "outputId": "afef1424-3a62-47a6-a129-b2822d035c35"
      },
      "execution_count": 16,
      "outputs": [
        {
          "output_type": "stream",
          "name": "stdout",
          "text": [
            "True\n"
          ]
        }
      ]
    },
    {
      "cell_type": "code",
      "source": [
        "# isupper()\n",
        "name = \"RAHUL\"\n",
        "print(name.isupper())"
      ],
      "metadata": {
        "colab": {
          "base_uri": "https://localhost:8080/"
        },
        "id": "W4kSoiEpj3PO",
        "outputId": "1b90c4f2-4698-4b2d-e343-057bdd737cfd"
      },
      "execution_count": 17,
      "outputs": [
        {
          "output_type": "stream",
          "name": "stdout",
          "text": [
            "True\n"
          ]
        }
      ]
    },
    {
      "cell_type": "code",
      "source": [
        "# isalpha()\n",
        "name = \"Rahul\"\n",
        "print(name.isalpha())"
      ],
      "metadata": {
        "colab": {
          "base_uri": "https://localhost:8080/"
        },
        "id": "5AUi_UmskKnu",
        "outputId": "2b5673b8-0c7f-4c9a-8d62-da97af56ae76"
      },
      "execution_count": 18,
      "outputs": [
        {
          "output_type": "stream",
          "name": "stdout",
          "text": [
            "True\n"
          ]
        }
      ]
    },
    {
      "cell_type": "code",
      "source": [
        "# isnumeric()\n",
        "num = \"8325\"\n",
        "print(num.isnumeric())"
      ],
      "metadata": {
        "colab": {
          "base_uri": "https://localhost:8080/"
        },
        "id": "WMK6iSI_kR1x",
        "outputId": "c94b3ff4-a174-453e-a69c-da46ac4e71a6"
      },
      "execution_count": 19,
      "outputs": [
        {
          "output_type": "stream",
          "name": "stdout",
          "text": [
            "True\n"
          ]
        }
      ]
    },
    {
      "cell_type": "markdown",
      "source": [
        "# 6. Indian PAN card format follows the following formats - \n",
        "    - `AYEPC7894X`\n",
        "    - `ABCDE9999Y`\n",
        "  Take user input for PAN_CARD and validate as per the above example.\n",
        "\n"
      ],
      "metadata": {
        "id": "sxA72-JDlMf4"
      }
    },
    {
      "cell_type": "code",
      "source": [
        "PAN_CARD = input(\"Enter a pan number: \")\n",
        "\n",
        "if len(PAN_CARD) == 10 and PAN_CARD[0:5].isalpha() and PAN_CARD[5:9].isdigit() and PAN_CARD[9:].isalpha():\n",
        "    print(f\"{PAN_CARD} Valid PAN Number.\")\n",
        "else:\n",
        "    print(\"Invalid PAN Number.\")"
      ],
      "metadata": {
        "colab": {
          "base_uri": "https://localhost:8080/"
        },
        "id": "ZNqlPHKQlOMv",
        "outputId": "d9ef3046-b82d-4858-f36e-bfd52fec40d3"
      },
      "execution_count": 35,
      "outputs": [
        {
          "output_type": "stream",
          "name": "stdout",
          "text": [
            "Enter a pan number: AYEPC7894X\n",
            "AYEPC7894X Valid PAN Number.\n"
          ]
        }
      ]
    },
    {
      "cell_type": "code",
      "source": [
        "PAN_CARD = input(\"Enter a pan number: \")\n",
        "\n",
        "if len(PAN_CARD) == 10 and PAN_CARD[0:5].isalpha() and PAN_CARD[5:9].isdigit() and PAN_CARD[9:].isalpha():\n",
        "    print(f\"{PAN_CARD} Valid PAN Number.\")\n",
        "else:\n",
        "    print(\"Invalid PAN Number.\")\n",
        "    "
      ],
      "metadata": {
        "colab": {
          "base_uri": "https://localhost:8080/"
        },
        "id": "PQAq_e3Jldv0",
        "outputId": "66809427-764e-4498-fab0-494b27a9008e"
      },
      "execution_count": 36,
      "outputs": [
        {
          "output_type": "stream",
          "name": "stdout",
          "text": [
            "Enter a pan number: ABCDE9999Y\n",
            "ABCDE9999Y Valid PAN Number.\n"
          ]
        }
      ]
    },
    {
      "cell_type": "code",
      "source": [
        "PAN_CARD = input(\"Enter a pan number: \")\n",
        "#AHJSS508CC\n",
        "if len(PAN_CARD) == 10 and PAN_CARD[0:5].isalpha() and PAN_CARD[5:9].isdigit() and PAN_CARD[9:].isalpha():\n",
        "    print(f\"{PAN_CARD} Valid PAN Number.\")\n",
        "else:\n",
        "    print(\"Invalid PAN Number.\")\n",
        "    "
      ],
      "metadata": {
        "colab": {
          "base_uri": "https://localhost:8080/"
        },
        "id": "YZjWwICFlrEf",
        "outputId": "3602d612-acd3-46f0-b4ee-e37a6e6a68e6"
      },
      "execution_count": 37,
      "outputs": [
        {
          "output_type": "stream",
          "name": "stdout",
          "text": [
            "Enter a pan number: AHJSS508CC\n",
            "Invalid PAN Number.\n"
          ]
        }
      ]
    }
  ]
}