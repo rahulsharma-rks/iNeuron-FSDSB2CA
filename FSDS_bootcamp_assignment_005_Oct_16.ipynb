{
  "nbformat": 4,
  "nbformat_minor": 0,
  "metadata": {
    "colab": {
      "provenance": [],
      "collapsed_sections": []
    },
    "kernelspec": {
      "name": "python3",
      "display_name": "Python 3"
    },
    "language_info": {
      "name": "python"
    }
  },
  "cells": [
    {
      "cell_type": "markdown",
      "source": [
        "# ASSIGNMENTS \n",
        "## Send it before 0000 hrs IST or 12 AM Friday\n",
        "\n",
        "## NOTE: Evaluation will be done before next class.\n",
        "\n",
        "## HOW TO SUBMIT: -\n",
        "Download this notebook, Solve it and upload in the google form given in the mail."
      ],
      "metadata": {
        "id": "dkGbTD94s6CD"
      }
    },
    {
      "cell_type": "markdown",
      "source": [
        "# List, Tuple and Sets"
      ],
      "metadata": {
        "id": "n3FuI-mutNl6"
      }
    },
    {
      "cell_type": "markdown",
      "source": [
        "#### 1. On amazon website we have the following available items - \n",
        "\n",
        "```python\n",
        "amazon_website = [(\"watch\", 5000), (\"phone\", 10000), (\"laptop\", 50000), (\"shirt\", 1000)]\n",
        "```\n",
        "Take the user input N no. of times and find out the total cost to be paid?\n",
        "\n",
        "OR\n",
        "\n",
        "You can ask the user quntity or the count of item?\n",
        "\n",
        "if the item is not present in the amazon website then print that item as out of stock and do add it total\n",
        "\n",
        "\n",
        "HINT: while, for loop.. indexing"
      ],
      "metadata": {
        "id": "hZcGNSR2y9zW"
      }
    },
    {
      "cell_type": "markdown",
      "source": [
        "#### 2. What will be the output of the following code snippet?\n",
        "\n",
        "```\n",
        "arr = [1, 2, 3, 4, 5, 6]\n",
        "for i in range(1, 6):\n",
        "    arr[i - 1] = arr[i]\n",
        "for i in range(0, 6): \n",
        "    print(arr[i], end = \" \")\n",
        "```"
      ],
      "metadata": {
        "id": "FQrKC2gzzsUm"
      }
    },
    {
      "cell_type": "markdown",
      "source": [
        "#### 3. Write a Python program to find the repeated items of a tuple."
      ],
      "metadata": {
        "id": "nL_DZJFS0ZZF"
      }
    },
    {
      "cell_type": "markdown",
      "source": [
        "### 4. Replace last value of tuples in a list with 500. Try using list comprehension\n",
        "\n",
        "Example -: \n",
        "```\n",
        "Input -:\n",
        "\n",
        "[(10, 20, 40), (40, 50, 60), (70, 80, 90)]\n",
        "\n",
        "Output -:\n",
        "[(10, 20, 500), (40, 50, 500), (70, 80, 500)]\n",
        "\n",
        "\n",
        "```\n"
      ],
      "metadata": {
        "id": "ne8WpLZZ1GSm"
      }
    },
    {
      "cell_type": "markdown",
      "source": [
        "# Solutions\n"
      ],
      "metadata": {
        "id": "9Y1uvf2NdDki"
      }
    },
    {
      "cell_type": "markdown",
      "source": [
        "#### 1. On amazon website we have the following available items - \n",
        "\n",
        "```python\n",
        "amazon_website = [(\"watch\", 5000), (\"phone\", 10000), (\"laptop\", 50000), (\"shirt\", 1000)]\n",
        "```\n",
        "Take the user input N no. of times and find out the total cost to be paid?\n",
        "\n",
        "OR\n",
        "\n",
        "You can ask the user quntity or the count of item?\n",
        "\n",
        "if the item is not present in the amazon website then print that item as out of stock and do add it total\n",
        "\n",
        "\n",
        "HINT: while, for loop.. indexing"
      ],
      "metadata": {
        "id": "aLuuEMdqdHAB"
      }
    },
    {
      "cell_type": "code",
      "source": [
        "amazon_website = [(\"watch\", 5000), (\"phone\", 10000), (\"laptop\", 50000), (\"shirt\", 1000)]\n",
        "print(amazon_website)\n",
        "userChoice = input(\"Enter Item to Purchase: \")\n",
        "totalCost = 0\n",
        "for item in amazon_website:\n",
        "  if (item[0] != userChoice):\n",
        "    print(f\"{userChoice}, is Out of Stock\")\n",
        "    break\n",
        "  elif (item[0] == userChoice):\n",
        "    totalQuantity = int(input(\"Enter Quantity:\"))\n",
        "    #print(f\"You have purchased {item[0]}\")\n",
        "    totalCost = item[-1] * totalQuantity\n",
        "    print(f\"You have Purchased {userChoice} and its Quantity is {totalQuantity}. Total payable amount: {totalCost}\")\n",
        "    break"
      ],
      "metadata": {
        "id": "YpvH9Di21z-O",
        "colab": {
          "base_uri": "https://localhost:8080/"
        },
        "outputId": "3ad38748-774f-4989-ff9c-5e0a2acf9603"
      },
      "execution_count": 68,
      "outputs": [
        {
          "output_type": "stream",
          "name": "stdout",
          "text": [
            "[('watch', 5000), ('phone', 10000), ('laptop', 50000), ('shirt', 1000)]\n",
            "Enter Item to Purchase: watch\n",
            "Enter Quantity:3\n",
            "You have Purchased watch and its Quantity is 3. Total payable amount: 15000\n"
          ]
        }
      ]
    },
    {
      "cell_type": "code",
      "source": [
        "amazon_website = [(\"watch\", 5000), (\"phone\", 10000), (\"laptop\", 50000), (\"shirt\", 1000)]\n",
        "print(amazon_website)\n",
        "userChoice = input(\"Enter Item to Purchase: \")\n",
        "totalCost = 0\n",
        "for item in amazon_website:\n",
        "  if (item[0] != userChoice):\n",
        "    print(f\"{userChoice}, is Out of Stock\")\n",
        "    break\n",
        "  elif (item[0] == userChoice):\n",
        "    totalQuantity = int(input(\"Enter Quantity:\"))\n",
        "    #print(f\"You have purchased {item[0]}\")\n",
        "    totalCost = item[-1] * totalQuantity\n",
        "    print(f\"You have Purchased {userChoice} and its Quantity is {totalQuantity}. Total payable amount: {totalCost}\")\n",
        "    break"
      ],
      "metadata": {
        "colab": {
          "base_uri": "https://localhost:8080/"
        },
        "id": "OJLRjpyYVErR",
        "outputId": "8a37b800-5359-4a35-9bd8-eb6aa0b2a570"
      },
      "execution_count": 69,
      "outputs": [
        {
          "output_type": "stream",
          "name": "stdout",
          "text": [
            "[('watch', 5000), ('phone', 10000), ('laptop', 50000), ('shirt', 1000)]\n",
            "Enter Item to Purchase: Laptop\n",
            "Laptop, is Out of Stock\n"
          ]
        }
      ]
    },
    {
      "cell_type": "markdown",
      "source": [
        "#### 2. What will be the output of the following code snippet?\n",
        "\n",
        "```\n",
        "arr = [1, 2, 3, 4, 5, 6]\n",
        "for i in range(1, 6):\n",
        "    arr[i - 1] = arr[i]\n",
        "for i in range(0, 6): \n",
        "    print(arr[i], end = \" \")\n",
        "```"
      ],
      "metadata": {
        "id": "yHQ1dI-xlcXR"
      }
    },
    {
      "cell_type": "code",
      "source": [
        "arr = [1, 2, 3, 4, 5, 6]\n",
        "for i in range(1, 6):\n",
        "    arr[i - 1] = arr[i]\n",
        "for i in range(0, 6): \n",
        "    print(arr[i], end = \" \")"
      ],
      "metadata": {
        "colab": {
          "base_uri": "https://localhost:8080/"
        },
        "id": "hNmS3J75lhSF",
        "outputId": "d7535a5d-0d61-4520-f657-62abae7b8d83"
      },
      "execution_count": 70,
      "outputs": [
        {
          "output_type": "stream",
          "name": "stdout",
          "text": [
            "2 3 4 5 6 6 "
          ]
        }
      ]
    },
    {
      "cell_type": "markdown",
      "source": [
        "# 3. Write a Python program to find the repeated items of a tuple."
      ],
      "metadata": {
        "id": "WrlGt2OVlvLG"
      }
    },
    {
      "cell_type": "code",
      "source": [
        "tup = (10,12,15,11,10,10,22,1,10,1,1)\n",
        "print(f\"Tuple: \",tup)\n",
        "num1 = int(input(\"Enter number you want to search:\"))\n",
        "list1 = list(tup)\n",
        "#print(f\"After Conversion to List:\",list1)\n",
        "for i in range(len(list1)):\n",
        "  list1[i] = list1[i]\n",
        "count = list1.count(num1)\n",
        "print(f\"{num1} appeared {count} times.\")"
      ],
      "metadata": {
        "colab": {
          "base_uri": "https://localhost:8080/"
        },
        "id": "6-_i10ZmlwsM",
        "outputId": "30860984-cbef-4c5e-8e7c-9fcd1e4ebb9a"
      },
      "execution_count": 71,
      "outputs": [
        {
          "output_type": "stream",
          "name": "stdout",
          "text": [
            "Tuple:  (10, 12, 15, 11, 10, 10, 22, 1, 10, 1, 1)\n",
            "Enter number you want to search:10\n",
            "10 appeared 4 times.\n"
          ]
        }
      ]
    },
    {
      "cell_type": "markdown",
      "source": [
        "### 4. Replace last value of tuples in a list with 500. Try using list comprehension\n",
        "\n",
        "Example -: \n",
        "```\n",
        "Input -:\n",
        "\n",
        "[(10, 20, 40), (40, 50, 60), (70, 80, 90)]\n",
        "\n",
        "Output -:\n",
        "[(10, 20, 500), (40, 50, 500), (70, 80, 500)]\n",
        "\n",
        "\n",
        "```"
      ],
      "metadata": {
        "id": "JHaSDHWll2je"
      }
    },
    {
      "cell_type": "code",
      "source": [
        "tup1 = [(10, 20, 40), (40, 50, 60), (70, 80, 90)]\n",
        "print(tup1)\n",
        "finalTup = []\n",
        "\n",
        "for t in tup1:\n",
        "  finalTup.append(t[:-1] + (500,))\n",
        "print(finalTup)\n"
      ],
      "metadata": {
        "colab": {
          "base_uri": "https://localhost:8080/"
        },
        "id": "iVUxcpfIl3p7",
        "outputId": "ccc4eb53-3f66-4cbd-84dd-271c0ee29f9d"
      },
      "execution_count": 72,
      "outputs": [
        {
          "output_type": "stream",
          "name": "stdout",
          "text": [
            "[(10, 20, 40), (40, 50, 60), (70, 80, 90)]\n",
            "[(10, 20, 500), (40, 50, 500), (70, 80, 500)]\n"
          ]
        }
      ]
    }
  ]
}