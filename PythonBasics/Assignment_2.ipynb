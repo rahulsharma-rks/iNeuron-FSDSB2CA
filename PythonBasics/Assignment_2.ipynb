{
 "cells": [
  {
   "cell_type": "markdown",
   "id": "5a75f3ab",
   "metadata": {},
   "source": [
    "# 1.What are the two values of the Boolean data type? How do you write them?"
   ]
  },
  {
   "cell_type": "code",
   "execution_count": 1,
   "id": "d597abec",
   "metadata": {},
   "outputs": [
    {
     "data": {
      "text/plain": [
       "bool"
      ]
     },
     "execution_count": 1,
     "metadata": {},
     "output_type": "execute_result"
    }
   ],
   "source": [
    "a = True\n",
    "type(a)\n",
    "\n",
    "b = False\n",
    "type(b)\n"
   ]
  },
  {
   "cell_type": "markdown",
   "id": "99024aa3",
   "metadata": {},
   "source": [
    "# 2. What are the three different types of Boolean operators?\n",
    "*  AND\n",
    "*  OR\n",
    "*  NOT"
   ]
  },
  {
   "cell_type": "markdown",
   "id": "3ae3b8ed",
   "metadata": {},
   "source": [
    "# 3. Make a list of each Boolean operator&#39;s truth tables (i.e. every possible combination of Boolean values for the operator and what it evaluate )."
   ]
  },
  {
   "cell_type": "code",
   "execution_count": 5,
   "id": "6905d851",
   "metadata": {},
   "outputs": [
    {
     "name": "stdout",
     "output_type": "stream",
     "text": [
      "AND Truth Table\n",
      "x\ty\tx and y\n",
      "T\tT\tTrue\n",
      "T\tF\tFalse\n",
      "F\tT\tFalse\n",
      "F\tF\tFalse\n"
     ]
    }
   ],
   "source": [
    "print(\"AND Truth Table\")\n",
    "print(\"x\\ty\\tx and y\")\n",
    "print(\"T\\tT\\t\" + str(True and True))\n",
    "print(\"T\\tF\\t\" + str(True and False))\n",
    "print(\"F\\tT\\t\" + str(False and True))\n",
    "print(\"F\\tF\\t\" + str(False and False))"
   ]
  },
  {
   "cell_type": "code",
   "execution_count": 6,
   "id": "d07409f9",
   "metadata": {},
   "outputs": [
    {
     "name": "stdout",
     "output_type": "stream",
     "text": [
      "OR Truth Table\n",
      "x\ty\tx or y\n",
      "T\tT\tTrue\n",
      "T\tF\tTrue\n",
      "F\tT\tTrue\n",
      "F\tF\tFalse\n"
     ]
    }
   ],
   "source": [
    "print(\"OR Truth Table\")\n",
    "print(\"x\\ty\\tx or y\")\n",
    "print(\"T\\tT\\t\" + str(True or True))\n",
    "print(\"T\\tF\\t\" + str(True or False))\n",
    "print(\"F\\tT\\t\" + str(False or True))\n",
    "print(\"F\\tF\\t\" + str(False or False))"
   ]
  },
  {
   "cell_type": "code",
   "execution_count": 10,
   "id": "e80c0218",
   "metadata": {},
   "outputs": [
    {
     "name": "stdout",
     "output_type": "stream",
     "text": [
      "NOT Truth Table\n",
      "x\tnot x\n",
      "T\tFalse\n",
      "F\tTrue\n"
     ]
    }
   ],
   "source": [
    "print(\"NOT Truth Table\")\n",
    "print(\"x\\tnot x\")\n",
    "print(\"T\\t\" + str(not True))\n",
    "print(\"F\\t\" + str(not False))"
   ]
  },
  {
   "cell_type": "markdown",
   "id": "577dcaa8",
   "metadata": {},
   "source": [
    "# 4.What are the values of the following expressions?"
   ]
  },
  {
   "cell_type": "code",
   "execution_count": 13,
   "id": "16374d3a",
   "metadata": {},
   "outputs": [
    {
     "name": "stdout",
     "output_type": "stream",
     "text": [
      "False\n",
      "False\n",
      "True\n",
      "False\n",
      "False\n",
      "True\n"
     ]
    }
   ],
   "source": [
    "print((5 > 4) and (3 == 5))\n",
    "print(not (5 > 4))\n",
    "print((5 > 4) or (3 == 5))\n",
    "print(not ((5 > 4) or (3 == 5)))\n",
    "print((True and True) and (True == False))\n",
    "print((not False) or (not True))"
   ]
  },
  {
   "cell_type": "markdown",
   "id": "d78ede0c",
   "metadata": {},
   "source": [
    "# 5. What are the six comparison operators?"
   ]
  },
  {
   "cell_type": "code",
   "execution_count": 14,
   "id": "254865e1",
   "metadata": {},
   "outputs": [
    {
     "name": "stdout",
     "output_type": "stream",
     "text": [
      "True\n",
      "True\n",
      "True\n",
      "False\n",
      "True\n",
      "False\n"
     ]
    }
   ],
   "source": [
    "# == (equal to)\n",
    "# != (not equal to)\n",
    "# < (less than)\n",
    "# > (greater than)\n",
    "# <= (less than or equal to)\n",
    "# >= (greater than or equal to)\n",
    "\n",
    "# Equal to\n",
    "a = 2\n",
    "b = 2\n",
    "print(a == b)  # True\n",
    "\n",
    "# Not equal to\n",
    "a = 2\n",
    "b = 3\n",
    "print(a != b)  # True\n",
    "\n",
    "# Less than\n",
    "a = 2\n",
    "b = 3\n",
    "print(a < b)  # True\n",
    "\n",
    "# Greater than\n",
    "a = 2\n",
    "b = 3\n",
    "print(a > b)  # False\n",
    "\n",
    "# Less than or equal to\n",
    "a = 2\n",
    "b = 3\n",
    "print(a <= b)  # True\n",
    "\n",
    "# Greater than or equal to\n",
    "a = 2\n",
    "b = 3\n",
    "print(a >= b)  # False\n",
    "\n"
   ]
  },
  {
   "cell_type": "markdown",
   "id": "1bc7f9ba",
   "metadata": {},
   "source": [
    "# 6. How do you tell the difference between the equal to and assignment operators?Describe a condition and when you would use one."
   ]
  },
  {
   "cell_type": "code",
   "execution_count": 23,
   "id": "b60f5384",
   "metadata": {},
   "outputs": [
    {
     "name": "stdout",
     "output_type": "stream",
     "text": [
      "Equal Operator\n",
      "x is not equal to y\n",
      "Assignment Operator\n",
      "10\n"
     ]
    }
   ],
   "source": [
    "#The equal to operator (==) is used to compare two values to see if they are equal.\n",
    "#Assignment operator (=) is used to assign a value to a variable.\n",
    "\n",
    "print(\"Equal Operator\")\n",
    "x = 5\n",
    "y = 10\n",
    "if x == y:\n",
    "    print(\"x is equal to y\")\n",
    "else:\n",
    "    print(\"x is not equal to y\")\n",
    "\n",
    "print(\"Assignment Operator\")\n",
    "x = 5\n",
    "y = 10\n",
    "x = y\n",
    "print(x)  # Outputs 10\n"
   ]
  },
  {
   "cell_type": "markdown",
   "id": "d6195e70",
   "metadata": {},
   "source": [
    "# 7. Identify the three blocks in this code:"
   ]
  },
  {
   "cell_type": "code",
   "execution_count": 26,
   "id": "2b562d79",
   "metadata": {},
   "outputs": [
    {
     "name": "stdout",
     "output_type": "stream",
     "text": [
      "ham\n",
      "spam\n",
      "spam\n"
     ]
    }
   ],
   "source": [
    "\"\"\"\n",
    "spam = 0\n",
    "if spam == 10:\n",
    "print('eggs')\n",
    "if spam > 5:\n",
    "print('bacon')\n",
    "else:\n",
    "print('ham')\n",
    "print('spam')\n",
    "print('spam')\n",
    "\"\"\"\n",
    "\n",
    "#First Block\"\n",
    "spam = 0\n",
    "if spam == 10:\n",
    "    print('eggs')\n",
    "\n",
    "#Second Block\n",
    "if spam > 5:\n",
    "    print('bacon')\n",
    "\n",
    "#Third Block\"\n",
    "else:\n",
    "    print('ham')\n",
    "    print('spam')\n",
    "    print('spam')"
   ]
  },
  {
   "cell_type": "markdown",
   "id": "1ae57673",
   "metadata": {},
   "source": [
    "# 8. Write code that prints Hello if 1 is stored in spam, prints Howdy if 2 is stored in spam, and prints Greetings! if anything else is stored in spam."
   ]
  },
  {
   "cell_type": "code",
   "execution_count": 29,
   "id": "345c126c",
   "metadata": {},
   "outputs": [
    {
     "name": "stdout",
     "output_type": "stream",
     "text": [
      "Greetings\n"
     ]
    }
   ],
   "source": [
    "spam = 3\n",
    "if spam == 1:\n",
    "    print(\"Hello\")\n",
    "elif spam == 2:\n",
    "    print(\"Howdy\")\n",
    "else:\n",
    "    print(\"Greetings\")"
   ]
  },
  {
   "cell_type": "markdown",
   "id": "2e784ea8",
   "metadata": {},
   "source": [
    "# 9.If your programme is stuck in an endless loop, what keys you’ll press?"
   ]
  },
  {
   "cell_type": "code",
   "execution_count": 30,
   "id": "fabef518",
   "metadata": {},
   "outputs": [],
   "source": [
    "# Ctrl + C"
   ]
  },
  {
   "cell_type": "markdown",
   "id": "18968ed4",
   "metadata": {},
   "source": [
    "# 10. How can you tell the difference between break and continue?"
   ]
  },
  {
   "cell_type": "code",
   "execution_count": 31,
   "id": "48647210",
   "metadata": {},
   "outputs": [
    {
     "name": "stdout",
     "output_type": "stream",
     "text": [
      "BREAK\n",
      "0\n",
      "1\n",
      "2\n",
      "3\n",
      "4\n",
      "CONTINUE\n",
      "1\n",
      "3\n",
      "5\n",
      "7\n",
      "9\n"
     ]
    }
   ],
   "source": [
    "#In a loop, the break statement is used to exit the loop prematurely. \n",
    "#Continue statement is used to skip the rest of the current iteration and move on to the next one.\n",
    "\n",
    "print(\"BREAK\")\n",
    "for i in range(10):\n",
    "    if i == 5:\n",
    "        break\n",
    "    print(i)\n",
    "\n",
    "print(\"CONTINUE\")\n",
    "for i in range(10):\n",
    "    if i % 2 == 0:\n",
    "        continue\n",
    "    print(i)\n"
   ]
  },
  {
   "cell_type": "markdown",
   "id": "b34a0c53",
   "metadata": {},
   "source": [
    "# 11. In a for loop, what is the difference between range(10), range(0, 10), and range(0, 10, 1)?"
   ]
  },
  {
   "cell_type": "code",
   "execution_count": 33,
   "id": "21b23eda",
   "metadata": {},
   "outputs": [
    {
     "name": "stdout",
     "output_type": "stream",
     "text": [
      "\n",
      "In a for loop in Python, the range() function is used to generate a sequence of numbers. \n",
      "It takes three arguments: start, stop, and step.\n",
      "\n",
      "The range(stop) form generates a sequence of numbers from 0 to stop - 1. \n",
      "For example, range(10) generates a sequence of numbers from 0 to 9.\n",
      "\n",
      "The range(start, stop) form generates a sequence of numbers from start to stop - 1. \n",
      "For example, range(0, 10) generates a sequence of numbers from 0 to 9.\n",
      "\n",
      "The range(start, stop, step) form generates a sequence of numbers from start to stop - 1, with a fixed step size of step. \n",
      "For example, range(0, 10, 1) generates a sequence of numbers from 0 to 9, with a step size of 1.\n",
      "\n"
     ]
    }
   ],
   "source": [
    "print(\n",
    "\"\"\"\n",
    "In a for loop in Python, the range() function is used to generate a sequence of numbers. \n",
    "It takes three arguments: start, stop, and step.\n",
    "\n",
    "The range(stop) form generates a sequence of numbers from 0 to stop - 1. \n",
    "For example, range(10) generates a sequence of numbers from 0 to 9.\n",
    "\n",
    "The range(start, stop) form generates a sequence of numbers from start to stop - 1. \n",
    "For example, range(0, 10) generates a sequence of numbers from 0 to 9.\n",
    "\n",
    "The range(start, stop, step) form generates a sequence of numbers from start to stop - 1, with a fixed step size of step. \n",
    "For example, range(0, 10, 1) generates a sequence of numbers from 0 to 9, with a step size of 1.\n",
    "\"\"\")"
   ]
  },
  {
   "cell_type": "code",
   "execution_count": 36,
   "id": "0a4da313",
   "metadata": {},
   "outputs": [
    {
     "name": "stdout",
     "output_type": "stream",
     "text": [
      "range(stop)\n",
      "0\n",
      "1\n",
      "2\n",
      "3\n",
      "4\n",
      "5\n",
      "6\n",
      "7\n",
      "8\n",
      "9\n",
      "range(start, stop)\n",
      "5\n",
      "6\n",
      "7\n",
      "8\n",
      "9\n",
      "range(start, stop, step)\n",
      "0\n",
      "2\n",
      "4\n",
      "6\n",
      "8\n"
     ]
    }
   ],
   "source": [
    "print(\"\"\"range(stop)\"\"\")\n",
    "for i in range(10):\n",
    "    print(i)\n",
    "\n",
    "print(\"\"\"range(start, stop)\"\"\")\n",
    "for i in range(5, 10):\n",
    "    print(i)\n",
    "\n",
    "print(\"\"\"range(start, stop, step)\"\"\")\n",
    "for i in range(0, 10, 2):\n",
    "    print(i)\n"
   ]
  },
  {
   "cell_type": "markdown",
   "id": "f6e3db38",
   "metadata": {},
   "source": [
    "# 12. Write a short program that prints the numbers 1 to 10 using a for loop. Then write an equivalent program that prints the numbers 1 to 10 using a while loop."
   ]
  },
  {
   "cell_type": "code",
   "execution_count": 37,
   "id": "657001d5",
   "metadata": {},
   "outputs": [
    {
     "name": "stdout",
     "output_type": "stream",
     "text": [
      "1\n",
      "2\n",
      "3\n",
      "4\n",
      "5\n",
      "6\n",
      "7\n",
      "8\n",
      "9\n",
      "10\n"
     ]
    }
   ],
   "source": [
    "#For Loop\n",
    "for i in range(1, 11):\n",
    "    print(i)\n"
   ]
  },
  {
   "cell_type": "code",
   "execution_count": 38,
   "id": "59725854",
   "metadata": {},
   "outputs": [
    {
     "name": "stdout",
     "output_type": "stream",
     "text": [
      "1\n",
      "2\n",
      "3\n",
      "4\n",
      "5\n",
      "6\n",
      "7\n",
      "8\n",
      "9\n",
      "10\n"
     ]
    }
   ],
   "source": [
    "#While Loop\n",
    "i = 1\n",
    "while i <= 10:\n",
    "    print(i)\n",
    "    i += 1\n"
   ]
  },
  {
   "cell_type": "markdown",
   "id": "c4b4f067",
   "metadata": {},
   "source": [
    "# 13. If you had a function named bacon() inside a module named spam, how would you call it after importing spam?"
   ]
  },
  {
   "cell_type": "code",
   "execution_count": 41,
   "id": "18096dce",
   "metadata": {},
   "outputs": [
    {
     "name": "stdout",
     "output_type": "stream",
     "text": [
      "To call the function bacon() inside a module named spam, you would first need to import the spam module \n",
      "using the import statement. \n",
      "We can also use the \"from spam import bacon\" syntax to import the bacon function directly, \n",
      "and then call it using the bacon().\n"
     ]
    }
   ],
   "source": [
    "print(\"\"\"To call the function bacon() inside a module named spam, you would first need to import the spam module \n",
    "using the import statement. \"\"\")\n",
    "\n",
    "#import spam\n",
    "#spam.bacon()\n",
    "\n",
    "\n",
    "print(\"\"\"We can also use the \"from spam import bacon\" syntax to import the bacon function directly, \n",
    "and then call it using the bacon().\"\"\")\n",
    "#from spam import bacon\n",
    "#bacon()\n"
   ]
  },
  {
   "cell_type": "code",
   "execution_count": null,
   "id": "f08aefed",
   "metadata": {},
   "outputs": [],
   "source": []
  }
 ],
 "metadata": {
  "kernelspec": {
   "display_name": "Python 3 (ipykernel)",
   "language": "python",
   "name": "python3"
  },
  "language_info": {
   "codemirror_mode": {
    "name": "ipython",
    "version": 3
   },
   "file_extension": ".py",
   "mimetype": "text/x-python",
   "name": "python",
   "nbconvert_exporter": "python",
   "pygments_lexer": "ipython3",
   "version": "3.9.12"
  }
 },
 "nbformat": 4,
 "nbformat_minor": 5
}
