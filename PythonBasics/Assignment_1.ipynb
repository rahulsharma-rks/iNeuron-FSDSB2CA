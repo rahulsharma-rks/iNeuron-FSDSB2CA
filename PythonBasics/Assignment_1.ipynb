{
 "cells": [
  {
   "cell_type": "markdown",
   "id": "106742d9",
   "metadata": {},
   "source": [
    "# 1.In the below elements which of them are values or an expression? eg:- values can be integer or string and expressions will be mathematical operators.\n"
   ]
  },
  {
   "cell_type": "markdown",
   "id": "169fa168",
   "metadata": {},
   "source": [
    "\" * \" is a mathematical operator and is used for multiplication. "
   ]
  },
  {
   "cell_type": "code",
   "execution_count": 1,
   "id": "51433dcd",
   "metadata": {},
   "outputs": [
    {
     "name": "stdout",
     "output_type": "stream",
     "text": [
      "100\n"
     ]
    }
   ],
   "source": [
    "a = 10\n",
    "b = 10\n",
    "c = a * b\n",
    "print(c)"
   ]
  },
  {
   "cell_type": "markdown",
   "id": "97df5558",
   "metadata": {},
   "source": [
    "'hello' is a string value. "
   ]
  },
  {
   "cell_type": "code",
   "execution_count": 3,
   "id": "3bb1d373",
   "metadata": {},
   "outputs": [
    {
     "name": "stdout",
     "output_type": "stream",
     "text": [
      "<class 'str'>\n"
     ]
    }
   ],
   "source": [
    "a = 'hello'\n",
    "print(type(a))"
   ]
  },
  {
   "cell_type": "markdown",
   "id": "21fa7961",
   "metadata": {},
   "source": [
    "-87.8 is a float value. "
   ]
  },
  {
   "cell_type": "code",
   "execution_count": 4,
   "id": "5cd86700",
   "metadata": {},
   "outputs": [
    {
     "name": "stdout",
     "output_type": "stream",
     "text": [
      "<class 'float'>\n"
     ]
    }
   ],
   "source": [
    "a = -87.8\n",
    "print(type(a))"
   ]
  },
  {
   "cell_type": "markdown",
   "id": "1a5bc645",
   "metadata": {},
   "source": [
    "'-' is a mathematical operator and it is used for subtraction."
   ]
  },
  {
   "cell_type": "code",
   "execution_count": 5,
   "id": "7d77df8d",
   "metadata": {},
   "outputs": [
    {
     "name": "stdout",
     "output_type": "stream",
     "text": [
      "10\n"
     ]
    }
   ],
   "source": [
    "num1 = 20\n",
    "num2 = 30\n",
    "num3 = num2 - num1\n",
    "print(num3)"
   ]
  },
  {
   "cell_type": "markdown",
   "id": "95abbcf1",
   "metadata": {},
   "source": [
    "'/' is a mathematical operator and it is used for division."
   ]
  },
  {
   "cell_type": "code",
   "execution_count": 6,
   "id": "e3ae8d9b",
   "metadata": {},
   "outputs": [
    {
     "name": "stdout",
     "output_type": "stream",
     "text": [
      "5.0\n"
     ]
    }
   ],
   "source": [
    "a = 25\n",
    "b = 5\n",
    "c = a/b\n",
    "print(c)"
   ]
  },
  {
   "cell_type": "markdown",
   "id": "19885040",
   "metadata": {},
   "source": [
    "'+' is a mathematical operator and it is used for addition. \n"
   ]
  },
  {
   "cell_type": "code",
   "execution_count": 7,
   "id": "4970ff4c",
   "metadata": {},
   "outputs": [
    {
     "name": "stdout",
     "output_type": "stream",
     "text": [
      "355\n"
     ]
    }
   ],
   "source": [
    "c = 255\n",
    "d = 100\n",
    "e = c + d\n",
    "print(e)"
   ]
  },
  {
   "cell_type": "markdown",
   "id": "d4c6e802",
   "metadata": {},
   "source": [
    "'6' is a integer value."
   ]
  },
  {
   "cell_type": "code",
   "execution_count": 8,
   "id": "bc55f10f",
   "metadata": {},
   "outputs": [
    {
     "name": "stdout",
     "output_type": "stream",
     "text": [
      "<class 'int'>\n"
     ]
    }
   ],
   "source": [
    "a = 6\n",
    "print(type(a))"
   ]
  },
  {
   "cell_type": "markdown",
   "id": "516a3e52",
   "metadata": {},
   "source": [
    "# 2. What is the difference between string and variable?"
   ]
  },
  {
   "cell_type": "markdown",
   "id": "9f4a44a5",
   "metadata": {},
   "source": [
    "String is a data type that is used to store text value. Strings are arrays. "
   ]
  },
  {
   "cell_type": "code",
   "execution_count": 14,
   "id": "6fc0daeb",
   "metadata": {},
   "outputs": [
    {
     "name": "stdout",
     "output_type": "stream",
     "text": [
      "Value: hello, this is an example of string. \n",
      "Data Type: <class 'str'>\n"
     ]
    }
   ],
   "source": [
    "#Example\n",
    "a = 'hello, this is an example of string.'\n",
    "print(f\"Value: {a} \\nData Type: {type(a)}\")"
   ]
  },
  {
   "cell_type": "markdown",
   "id": "ea26c985",
   "metadata": {},
   "source": [
    "Variable is used to store value of different data types so that it can be used in program later. \n",
    "Data type of variable can be changed after it is created or assigned."
   ]
  },
  {
   "cell_type": "code",
   "execution_count": 17,
   "id": "5412f5af",
   "metadata": {},
   "outputs": [
    {
     "name": "stdout",
     "output_type": "stream",
     "text": [
      "Value of a:10 and its data type: <class 'int'>\n",
      "Value of b:python and its data type: <class 'str'>\n"
     ]
    }
   ],
   "source": [
    "#Example\n",
    "a = 10   \n",
    "#'a' is a variable which is used to store value 10.\n",
    "\n",
    "b = 'python' \n",
    "#'b' is a variable which is used to store value 'python'.\n",
    "\n",
    "print(f\"Value of a:{a} and its data type: {type(a)}\")\n",
    "print(f\"Value of b:{b} and its data type: {type(b)}\")"
   ]
  },
  {
   "cell_type": "markdown",
   "id": "b6b509a3",
   "metadata": {},
   "source": [
    "# 3. Describe three different data types."
   ]
  },
  {
   "cell_type": "markdown",
   "id": "c3a8ec53",
   "metadata": {},
   "source": [
    "Data Types are:\n",
    "* Text Type - str\n",
    "* Numeric Types:\tint, float, complex\n",
    "* Boolean Type:\tbool"
   ]
  },
  {
   "cell_type": "code",
   "execution_count": 20,
   "id": "56282b73",
   "metadata": {},
   "outputs": [
    {
     "name": "stdout",
     "output_type": "stream",
     "text": [
      "Value a:hello and data type:<class 'str'>\n"
     ]
    }
   ],
   "source": [
    "#String is a data type that is used to store text value. Strings are arrays.\n",
    "a = 'hello'\n",
    "print(f\"Value a:{a} and data type:{type(a)}\")"
   ]
  },
  {
   "cell_type": "code",
   "execution_count": 25,
   "id": "114c3be9",
   "metadata": {},
   "outputs": [
    {
     "name": "stdout",
     "output_type": "stream",
     "text": [
      "Value a:10 and data type:<class 'int'>\n",
      "Value b:10.2 and data type:<class 'float'>\n",
      "Value c:(1+2j) and data type:<class 'complex'>\n"
     ]
    }
   ],
   "source": [
    "# int - Integer is a whole number which can be positive or negative number without decimal.\n",
    "# float - Float is a number which can be positive or negative number with decimal.\n",
    "# complex - Complex numbers are written with 'j' as imaginary part.\n",
    "a = 10\n",
    "b = 10.2\n",
    "c = 1 + 2j\n",
    "print(f\"Value a:{a} and data type:{type(a)}\")\n",
    "print(f\"Value b:{b} and data type:{type(b)}\")\n",
    "print(f\"Value c:{c} and data type:{type(c)}\")"
   ]
  },
  {
   "cell_type": "code",
   "execution_count": 29,
   "id": "ff3c1332",
   "metadata": {},
   "outputs": [
    {
     "name": "stdout",
     "output_type": "stream",
     "text": [
      "Value a:True and data type:<class 'bool'>\n"
     ]
    }
   ],
   "source": [
    "# bool - Booleans have two values either True or False. It can be used to check conditions or know whether the expression is True or False. \n",
    "a = True\n",
    "print(f\"Value a:{a} and data type:{type(a)}\")"
   ]
  },
  {
   "cell_type": "markdown",
   "id": "31b02e6e",
   "metadata": {},
   "source": [
    "# 4. What is an expression made up of? What do all expressions do?"
   ]
  },
  {
   "cell_type": "markdown",
   "id": "0c5b257c",
   "metadata": {},
   "source": [
    "Expression is an combination of operator and operand and is used to produce different value.\n",
    "> Types of Expressions:\n",
    "* Constant Expressions\n",
    "* Arithmetic Expressions\n",
    "* Integral Expressions\n",
    "* Floating Expressions\n",
    "* Relational Expressions\n",
    "* Logical Expressions\n",
    "* Bitwise Expressions\n",
    "* Combinational Expressions\n",
    "\n"
   ]
  },
  {
   "cell_type": "code",
   "execution_count": 30,
   "id": "e4ca4a58",
   "metadata": {},
   "outputs": [
    {
     "name": "stdout",
     "output_type": "stream",
     "text": [
      "2500\n"
     ]
    }
   ],
   "source": [
    "#Constant Expressions\n",
    "a = 100 * 25\n",
    "print(a)"
   ]
  },
  {
   "cell_type": "code",
   "execution_count": 31,
   "id": "136e14e8",
   "metadata": {},
   "outputs": [
    {
     "name": "stdout",
     "output_type": "stream",
     "text": [
      "15\n",
      "5\n",
      "50\n",
      "2.0\n"
     ]
    }
   ],
   "source": [
    "#Arithmetic Expressions\n",
    "a = 10\n",
    "b = 5\n",
    "c = a + b\n",
    "d = a - b\n",
    "e = a * b\n",
    "f = a / b\n",
    "print(c)\n",
    "print(d)\n",
    "print(e)\n",
    "print(f)"
   ]
  },
  {
   "cell_type": "code",
   "execution_count": 35,
   "id": "a3128a27",
   "metadata": {},
   "outputs": [
    {
     "name": "stdout",
     "output_type": "stream",
     "text": [
      "25\n"
     ]
    }
   ],
   "source": [
    "#Integral Expressions\n",
    "#This kind of expressions produces only integer results after all computations and type conversions of values.\n",
    "a = 10\n",
    "b = 15.5\n",
    "c = a + int(b)\n",
    "print(c)"
   ]
  },
  {
   "cell_type": "code",
   "execution_count": 36,
   "id": "c142cc52",
   "metadata": {},
   "outputs": [
    {
     "name": "stdout",
     "output_type": "stream",
     "text": [
      "3.3333333333333335\n"
     ]
    }
   ],
   "source": [
    "#Floating Expressions\n",
    "# It produces floating point numbers as result.\n",
    "a = 10\n",
    "b = 3\n",
    "c = a/b\n",
    "print(c)"
   ]
  },
  {
   "cell_type": "code",
   "execution_count": 2,
   "id": "26641174",
   "metadata": {},
   "outputs": [
    {
     "name": "stdout",
     "output_type": "stream",
     "text": [
      "True\n"
     ]
    }
   ],
   "source": [
    "#Relational Expressions\n",
    "#In relational expressions, arithmetic expressions are written on both sides of relational operator (> , < , >= , <=). The arithmetic expressions are evaluated first, and then compared as per relational operator and produce a boolean output in the end.\n",
    "a = 25\n",
    "b = 15\n",
    "c = 55\n",
    "d = 35\n",
    "p = (a + b) >= (c - d)\n",
    "print(p)\n"
   ]
  },
  {
   "cell_type": "code",
   "execution_count": 7,
   "id": "cddce233",
   "metadata": {},
   "outputs": [
    {
     "name": "stdout",
     "output_type": "stream",
     "text": [
      "False\n"
     ]
    }
   ],
   "source": [
    "#Logical Expressions\n",
    "#Logical expressions results in either True or False. It basically specifies one or more conditions.(AND, OR, NOT)\n",
    "a = 10\n",
    "b = 20\n",
    "c = (a > 10) and (b > 10)\n",
    "print(c)"
   ]
  },
  {
   "cell_type": "code",
   "execution_count": 9,
   "id": "65d6b6ce",
   "metadata": {},
   "outputs": [
    {
     "name": "stdout",
     "output_type": "stream",
     "text": [
      "2 20\n"
     ]
    }
   ],
   "source": [
    "#Bitwise Expressions\n",
    "#Bitwise operators are used to compare numbers.\n",
    "a = 10\n",
    "\n",
    "x = a >> 2\n",
    "y = a << 1\n",
    "\n",
    "print(x, y)\n"
   ]
  },
  {
   "cell_type": "code",
   "execution_count": 10,
   "id": "48d39a48",
   "metadata": {},
   "outputs": [
    {
     "name": "stdout",
     "output_type": "stream",
     "text": [
      "26\n"
     ]
    }
   ],
   "source": [
    "#Combinational Expressions\n",
    "#In these kind of expressions we can use different types of expression in single expression. \n",
    "a = 20\n",
    "b = 24\n",
    "\n",
    "c = a + (b >> 2)\n",
    "print(c)\n"
   ]
  },
  {
   "cell_type": "markdown",
   "id": "c3b8441f",
   "metadata": {},
   "source": [
    "# 5. This assignment statements, like spam = 10. What is the difference between an expression and a statement?"
   ]
  },
  {
   "cell_type": "markdown",
   "id": "370c4521",
   "metadata": {},
   "source": [
    "* Expression: \n",
    "1. Expression returns a value.\n",
    "2. Expression can print result.\n",
    "3. Function can also be called as expression"
   ]
  },
  {
   "cell_type": "code",
   "execution_count": 13,
   "id": "59e6cf97",
   "metadata": {},
   "outputs": [
    {
     "name": "stdout",
     "output_type": "stream",
     "text": [
      "HelloWorld\n"
     ]
    }
   ],
   "source": [
    "#Expression Example\n",
    "a = \"Hello\" + \"World\"\n",
    "print(a)"
   ]
  },
  {
   "cell_type": "markdown",
   "id": "4938a239",
   "metadata": {},
   "source": [
    "* Statement:\n",
    "1. Statement cannot return value.\n",
    "2. Statement cannot print result. \n",
    "3. Example: Assignment statements, condition, loops, classes, import, def, try, except, pass etc"
   ]
  },
  {
   "cell_type": "markdown",
   "id": "3d3ed63a",
   "metadata": {},
   "source": [
    "# 6. After running the following code, what does the variable bacon contain?"
   ]
  },
  {
   "cell_type": "code",
   "execution_count": 15,
   "id": "8a056bb0",
   "metadata": {},
   "outputs": [
    {
     "name": "stdout",
     "output_type": "stream",
     "text": [
      "22\n",
      "22\n"
     ]
    }
   ],
   "source": [
    "bacon = 22\n",
    "print(bacon)\n",
    "bacon + 1\n",
    "print(bacon)"
   ]
  },
  {
   "cell_type": "markdown",
   "id": "f2332161",
   "metadata": {},
   "source": [
    "# 7. What should the values of the following two terms be?"
   ]
  },
  {
   "cell_type": "code",
   "execution_count": 16,
   "id": "f8ead5db",
   "metadata": {},
   "outputs": [
    {
     "name": "stdout",
     "output_type": "stream",
     "text": [
      "a: spamspamspam\n",
      "b: spamspamspam\n"
     ]
    }
   ],
   "source": [
    "#'spam' + 'spamspam'\n",
    "#'spam' * 3\n",
    "a = 'spam' + 'spamspam'\n",
    "b = 'spam' * 3\n",
    "print(\"a:\", a)\n",
    "print(\"b:\", b)"
   ]
  },
  {
   "cell_type": "markdown",
   "id": "79fff62d",
   "metadata": {},
   "source": [
    "# 8. Why is eggs a valid variable name while 100 is invalid?"
   ]
  },
  {
   "cell_type": "code",
   "execution_count": 20,
   "id": "294e80f9",
   "metadata": {},
   "outputs": [
    {
     "name": "stdout",
     "output_type": "stream",
     "text": [
      "1\n"
     ]
    }
   ],
   "source": [
    "eggs = 1\n",
    "print(eggs)"
   ]
  },
  {
   "cell_type": "code",
   "execution_count": 22,
   "id": "397e0001",
   "metadata": {},
   "outputs": [
    {
     "ename": "SyntaxError",
     "evalue": "cannot assign to literal (466030638.py, line 1)",
     "output_type": "error",
     "traceback": [
      "\u001b[1;36m  Input \u001b[1;32mIn [22]\u001b[1;36m\u001b[0m\n\u001b[1;33m    100 = \"a\"\u001b[0m\n\u001b[1;37m    ^\u001b[0m\n\u001b[1;31mSyntaxError\u001b[0m\u001b[1;31m:\u001b[0m cannot assign to literal\n"
     ]
    }
   ],
   "source": [
    "100 = \"a\"\n",
    "print(100)"
   ]
  },
  {
   "cell_type": "markdown",
   "id": "b7dd45aa",
   "metadata": {},
   "source": [
    "Variable is used to store value. \n",
    "* Variable name must start with a letter or the underscore character.\n",
    "* Variables cannot start with a number.\n",
    "* A variable name can only contain alpha-numeric characters and underscores (A-z, 0-9, and _ ).\n",
    "* It is case-sensitive (name, Name and NAME are 3 different variables).\n",
    "* The reserved words(keywords) cannot be used for naming the variable."
   ]
  },
  {
   "cell_type": "markdown",
   "id": "654fe59e",
   "metadata": {},
   "source": [
    "# 9. What three functions can be used to get the integer, floating-point number, or string version of a value?"
   ]
  },
  {
   "cell_type": "code",
   "execution_count": 44,
   "id": "53407154",
   "metadata": {},
   "outputs": [
    {
     "name": "stdout",
     "output_type": "stream",
     "text": [
      "a: 10 and Type: <class 'int'>\n",
      "b: 12.5 and Type: <class 'float'>\n",
      "c: d and Type: <class 'str'>\n",
      "-----------STRING-----------\n",
      "a: 10 and Type: <class 'str'>\n",
      "b: 12.5 and Type: <class 'str'>\n",
      "c: 35 and Type: <class 'str'>\n",
      "-----------INT-----------\n",
      "a: 10 and Type: <class 'int'>\n",
      "b: 12 and Type: <class 'int'>\n",
      "c: 35 and Type: <class 'int'>\n",
      "-----------FLOAT-----------\n",
      "a: 10.0 and Type: <class 'float'>\n",
      "b: 12.5 and Type: <class 'float'>\n",
      "c: 35.0 and Type: <class 'float'>\n"
     ]
    }
   ],
   "source": [
    "a = 10\n",
    "b = 12.50\n",
    "c = 'd'\n",
    "print(f'a: {a} and Type:', type(a))\n",
    "print(f'b: {b} and Type:', type(b))\n",
    "print(f'c: {c} and Type:', type(c))\n",
    "print(\"-----------STRING-----------\")\n",
    "a = str(10)\n",
    "b = str(12.50)\n",
    "c = str(d)\n",
    "print(f'a: {a} and Type:', type(a))\n",
    "print(f'b: {b} and Type:', type(b))\n",
    "print(f'c: {c} and Type:', type(c))\n",
    "print(\"-----------INT-----------\")\n",
    "a = int(10)\n",
    "b = int(12.50)\n",
    "c = int(d)\n",
    "print(f'a: {a} and Type:', type(a))\n",
    "print(f'b: {b} and Type:', type(b))\n",
    "print(f'c: {c} and Type:', type(c))\n",
    "print(\"-----------FLOAT-----------\")\n",
    "a = float(10)\n",
    "b = float(12.50)\n",
    "c = float(d)\n",
    "print(f'a: {a} and Type:', type(a))\n",
    "print(f'b: {b} and Type:', type(b))\n",
    "print(f'c: {c} and Type:', type(c))"
   ]
  },
  {
   "cell_type": "markdown",
   "id": "045328bc",
   "metadata": {},
   "source": [
    "# 10. Why does this expression cause an error? How can you fix it?\n",
    "&#39;I have eaten &#39; + 99 + &#39; burritos.&#39;"
   ]
  },
  {
   "cell_type": "code",
   "execution_count": 45,
   "id": "453551dd",
   "metadata": {},
   "outputs": [
    {
     "ename": "TypeError",
     "evalue": "can only concatenate str (not \"int\") to str",
     "output_type": "error",
     "traceback": [
      "\u001b[1;31m---------------------------------------------------------------------------\u001b[0m",
      "\u001b[1;31mTypeError\u001b[0m                                 Traceback (most recent call last)",
      "Input \u001b[1;32mIn [45]\u001b[0m, in \u001b[0;36m<cell line: 1>\u001b[1;34m()\u001b[0m\n\u001b[1;32m----> 1\u001b[0m a \u001b[38;5;241m=\u001b[39m \u001b[38;5;124;43m'\u001b[39;49m\u001b[38;5;124;43mI have eaten \u001b[39;49m\u001b[38;5;124;43m'\u001b[39;49m\u001b[43m \u001b[49m\u001b[38;5;241;43m+\u001b[39;49m\u001b[43m \u001b[49m\u001b[38;5;241;43m99\u001b[39;49m \u001b[38;5;241m+\u001b[39m \u001b[38;5;124m'\u001b[39m\u001b[38;5;124m burritos.\u001b[39m\u001b[38;5;124m'\u001b[39m\n\u001b[0;32m      2\u001b[0m \u001b[38;5;28mprint\u001b[39m(a)\n",
      "\u001b[1;31mTypeError\u001b[0m: can only concatenate str (not \"int\") to str"
     ]
    }
   ],
   "source": [
    "a = 'I have eaten ' + 99 + ' burritos.'\n",
    "print(a)"
   ]
  },
  {
   "cell_type": "code",
   "execution_count": 46,
   "id": "7b0ba498",
   "metadata": {},
   "outputs": [
    {
     "name": "stdout",
     "output_type": "stream",
     "text": [
      "I have eaten 99  burritos.\n"
     ]
    }
   ],
   "source": [
    "b = 'I have eaten ' + '99 '+ ' burritos.'\n",
    "print(b)"
   ]
  },
  {
   "cell_type": "markdown",
   "id": "87e5c796",
   "metadata": {},
   "source": [
    "We cannot concatenate string with integer. "
   ]
  },
  {
   "cell_type": "code",
   "execution_count": null,
   "id": "d9fd5ffc",
   "metadata": {},
   "outputs": [],
   "source": []
  }
 ],
 "metadata": {
  "kernelspec": {
   "display_name": "Python 3 (ipykernel)",
   "language": "python",
   "name": "python3"
  },
  "language_info": {
   "codemirror_mode": {
    "name": "ipython",
    "version": 3
   },
   "file_extension": ".py",
   "mimetype": "text/x-python",
   "name": "python",
   "nbconvert_exporter": "python",
   "pygments_lexer": "ipython3",
   "version": "3.9.12"
  }
 },
 "nbformat": 4,
 "nbformat_minor": 5
}
