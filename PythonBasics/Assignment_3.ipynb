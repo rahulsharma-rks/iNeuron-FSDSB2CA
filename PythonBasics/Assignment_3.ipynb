{
 "cells": [
  {
   "cell_type": "markdown",
   "id": "803cdcbf",
   "metadata": {},
   "source": [
    "# 1. Why are functions advantageous to have in your programs?"
   ]
  },
  {
   "cell_type": "markdown",
   "id": "5572e31a",
   "metadata": {},
   "source": [
    "Advantages of using function in programs are: \n",
    "* Code reuse\n",
    "* Readability: Functions can make code easier to read and understand by breaking it up into smaller, self-contained pieces. This can be especially helpful when working on large programs with many lines of code.\n",
    "* Debugging: Functions allow you to debug your code more easily, because you can test each function individually to make sure it's working correctly.\n",
    "* Testing: Functions can be tested independently, which makes it easier to write unit tests and verify that your code is working as expected."
   ]
  },
  {
   "cell_type": "markdown",
   "id": "aa82a313",
   "metadata": {},
   "source": [
    "# 2. When does the code in a function run: when it's specified or when it's called?"
   ]
  },
  {
   "cell_type": "markdown",
   "id": "b8c6eeb7",
   "metadata": {},
   "source": [
    "The code in a function runs when the function is called, not when it is specified."
   ]
  },
  {
   "cell_type": "code",
   "execution_count": 2,
   "id": "024eb213",
   "metadata": {},
   "outputs": [
    {
     "name": "stdout",
     "output_type": "stream",
     "text": [
      "Good Morning\n"
     ]
    }
   ],
   "source": [
    "def wish():\n",
    "    print(\"Good Morning\")\n",
    "\n",
    "# The function is defined here, but the code inside it is not executed yet\n",
    "\n",
    "wish()  # The code in the function is executed when the function is called\n"
   ]
  },
  {
   "cell_type": "markdown",
   "id": "19f76c34",
   "metadata": {},
   "source": [
    "# 3. What statement creates a function?"
   ]
  },
  {
   "cell_type": "markdown",
   "id": "d44becc5",
   "metadata": {},
   "source": [
    "\"def\" is used to create funtion. "
   ]
  },
  {
   "cell_type": "code",
   "execution_count": 4,
   "id": "a85fcfc5",
   "metadata": {},
   "outputs": [
    {
     "name": "stdout",
     "output_type": "stream",
     "text": [
      "Hello, world!\n"
     ]
    }
   ],
   "source": [
    "def greet():\n",
    "    print(\"Hello, world!\")\n",
    "greet()"
   ]
  },
  {
   "cell_type": "markdown",
   "id": "a7201918",
   "metadata": {},
   "source": [
    "# 4. What is the difference between a function and a function call?"
   ]
  },
  {
   "cell_type": "markdown",
   "id": "fdd91504",
   "metadata": {},
   "source": [
    "A function is a block of code that performs a specific task, and can be reused in your program by calling the function. A function call is the act of calling the function to execute the code inside it."
   ]
  },
  {
   "cell_type": "code",
   "execution_count": 5,
   "id": "ca5bb288",
   "metadata": {},
   "outputs": [
    {
     "name": "stdout",
     "output_type": "stream",
     "text": [
      "Hello, world!\n"
     ]
    }
   ],
   "source": [
    "#Function\n",
    "def greet():\n",
    "    print(\"Hello, world!\")\n",
    "#Function call\n",
    "greet()"
   ]
  },
  {
   "cell_type": "markdown",
   "id": "94ed4da9",
   "metadata": {},
   "source": [
    "# 5. How many global scopes are there in a Python program? How many local scopes?\n",
    "* The global scope is the main body of the program, and any variables or functions defined in the global scope are available to all parts of the program.\n",
    "\n",
    "* A local scope is created whenever a function is called, and any variables or functions defined within the function are only available within the local scope. When the function returns, the local scope is destroyed and any variables or functions defined within it are no longer available."
   ]
  },
  {
   "cell_type": "code",
   "execution_count": 6,
   "id": "ec410014",
   "metadata": {},
   "outputs": [
    {
     "name": "stdout",
     "output_type": "stream",
     "text": [
      "10\n",
      "20\n",
      "10\n"
     ]
    },
    {
     "ename": "NameError",
     "evalue": "name 'y' is not defined",
     "output_type": "error",
     "traceback": [
      "\u001b[1;31m---------------------------------------------------------------------------\u001b[0m",
      "\u001b[1;31mNameError\u001b[0m                                 Traceback (most recent call last)",
      "Input \u001b[1;32mIn [6]\u001b[0m, in \u001b[0;36m<cell line: 13>\u001b[1;34m()\u001b[0m\n\u001b[0;32m     10\u001b[0m foo()  \u001b[38;5;66;03m# Calls the foo() function\u001b[39;00m\n\u001b[0;32m     12\u001b[0m \u001b[38;5;28mprint\u001b[39m(x)  \u001b[38;5;66;03m# x is available in the global scope\u001b[39;00m\n\u001b[1;32m---> 13\u001b[0m \u001b[38;5;28mprint\u001b[39m(\u001b[43my\u001b[49m)\n",
      "\u001b[1;31mNameError\u001b[0m: name 'y' is not defined"
     ]
    }
   ],
   "source": [
    "# Global scope\n",
    "x = 10  # x is a global variable\n",
    "\n",
    "def foo():\n",
    "    # Local scope\n",
    "    y = 20  # y is a local variable\n",
    "    print(x)  # x is available in the local scope\n",
    "    print(y)  # y is available in the local scope\n",
    "\n",
    "foo()  # Calls the foo() function\n",
    "\n",
    "print(x)  # x is available in the global scope\n",
    "print(y)  # y is not available in the global scope\n"
   ]
  },
  {
   "cell_type": "markdown",
   "id": "8eef61ac",
   "metadata": {},
   "source": [
    "# 6. What happens to variables in a local scope when the function call returns?\n",
    "* When a function call returns, the local scope is destroyed, and any variables or functions defined within it are no longer available."
   ]
  },
  {
   "cell_type": "code",
   "execution_count": 7,
   "id": "6ed9fe52",
   "metadata": {},
   "outputs": [
    {
     "name": "stdout",
     "output_type": "stream",
     "text": [
      "10\n"
     ]
    }
   ],
   "source": [
    "def foo():\n",
    "    x = 10  # x is a local variable\n",
    "\n",
    "foo()  # Calls the foo() function\n",
    "\n",
    "print(x)  # This will raise an error, because x is not defined in the global scope\n"
   ]
  },
  {
   "cell_type": "markdown",
   "id": "764c2977",
   "metadata": {},
   "source": [
    "# 7. What is the concept of a return value? Is it possible to have a return value in an expression?"
   ]
  },
  {
   "cell_type": "code",
   "execution_count": 9,
   "id": "0d483829",
   "metadata": {},
   "outputs": [
    {
     "name": "stdout",
     "output_type": "stream",
     "text": [
      "The concept of a return value refers to the value that a function returns to the caller when it is called. \n",
      "In Python, a function can return a value using the return statement.\n",
      "7\n"
     ]
    }
   ],
   "source": [
    "print(\"\"\"The concept of a return value refers to the value that a function returns to the caller when it is called. \n",
    "In Python, a function can return a value using the return statement.\"\"\")\n",
    "def add(x, y):\n",
    "    return x + y\n",
    "\n",
    "result = add(3, 4)\n",
    "print(result)  # Output: 7\n"
   ]
  },
  {
   "cell_type": "code",
   "execution_count": 10,
   "id": "340161cd",
   "metadata": {},
   "outputs": [
    {
     "name": "stdout",
     "output_type": "stream",
     "text": [
      " It is possible to have a return value in an expression, as long as the expression is used as part of a larger statement. \n",
      "18\n"
     ]
    }
   ],
   "source": [
    "print(\"\"\" It is possible to have a return value in an expression, as long as the expression is used as part of a larger statement. \"\"\")\n",
    "def add(x, y):\n",
    "    return x + y\n",
    "\n",
    "result = add(3, 4) + add(5, 6)\n",
    "print(result)  # Output: 18\n"
   ]
  },
  {
   "cell_type": "markdown",
   "id": "fc979281",
   "metadata": {},
   "source": [
    "# 8. If a function does not have a return statement, what is the return value of a call to that function?"
   ]
  },
  {
   "cell_type": "code",
   "execution_count": 12,
   "id": "81294018",
   "metadata": {},
   "outputs": [
    {
     "name": "stdout",
     "output_type": "stream",
     "text": [
      "If a function does not have a return statement, the return value of a call to that function is None.\n",
      "Hello, world!\n",
      "None\n"
     ]
    }
   ],
   "source": [
    "print(\"\"\"If a function does not have a return statement, the return value of a call to that function is None.\"\"\")\n",
    "def foo():\n",
    "    print(\"Hello, world!\")\n",
    "\n",
    "result = foo()\n",
    "print(result)  # Output: None\n"
   ]
  },
  {
   "cell_type": "markdown",
   "id": "b7c8b5dc",
   "metadata": {},
   "source": [
    "# 9. How do you make a function variable refer to the global variable?"
   ]
  },
  {
   "cell_type": "code",
   "execution_count": 14,
   "id": "cbb74040",
   "metadata": {},
   "outputs": [
    {
     "name": "stdout",
     "output_type": "stream",
     "text": [
      "To make a function variable refer to a global variable, you can use the global keyword in the function definition.\n",
      "20\n"
     ]
    }
   ],
   "source": [
    "print(\"\"\"To make a function variable refer to a global variable, you can use the global keyword in the function definition.\"\"\")\n",
    "\n",
    "x = 10  # Global variable\n",
    "\n",
    "def foo():\n",
    "    global x  # Declares x as a global variable\n",
    "    x = 20\n",
    "\n",
    "foo()\n",
    "print(x)\n"
   ]
  },
  {
   "cell_type": "markdown",
   "id": "0d963d75",
   "metadata": {},
   "source": [
    "# 10. What is the data type of None?"
   ]
  },
  {
   "cell_type": "code",
   "execution_count": 16,
   "id": "7f3fa61b",
   "metadata": {},
   "outputs": [
    {
     "name": "stdout",
     "output_type": "stream",
     "text": [
      "In Python, None is a special constant that represents the absence of a value or a null value. \n",
      "It is an object of its own datatype, called NoneType\n",
      "<class 'NoneType'>\n"
     ]
    }
   ],
   "source": [
    "print(\"\"\"In Python, None is a special constant that represents the absence of a value or a null value. \n",
    "It is an object of its own datatype, called NoneType\"\"\")\n",
    "\n",
    "x = None\n",
    "print(type(x))\n"
   ]
  },
  {
   "cell_type": "markdown",
   "id": "f815e065",
   "metadata": {},
   "source": [
    "# 11. What does the sentence import areallyourpetsnamederic do?"
   ]
  },
  {
   "cell_type": "code",
   "execution_count": 18,
   "id": "65be630f",
   "metadata": {},
   "outputs": [
    {
     "name": "stdout",
     "output_type": "stream",
     "text": [
      "The sentence import areallyourpetsnamederic is a Python import statement that attempts to import a\n",
      "module (library) named areallyourpetsnamederic.\n"
     ]
    },
    {
     "ename": "ModuleNotFoundError",
     "evalue": "No module named 'areallyourpetsnamederic'",
     "output_type": "error",
     "traceback": [
      "\u001b[1;31m---------------------------------------------------------------------------\u001b[0m",
      "\u001b[1;31mModuleNotFoundError\u001b[0m                       Traceback (most recent call last)",
      "Input \u001b[1;32mIn [18]\u001b[0m, in \u001b[0;36m<cell line: 4>\u001b[1;34m()\u001b[0m\n\u001b[0;32m      1\u001b[0m \u001b[38;5;28mprint\u001b[39m(\u001b[38;5;124m\"\"\"\u001b[39m\u001b[38;5;124mThe sentence import areallyourpetsnamederic is a Python import statement that attempts to import a\u001b[39m\n\u001b[0;32m      2\u001b[0m \u001b[38;5;124mmodule (library) named areallyourpetsnamederic.\u001b[39m\u001b[38;5;124m\"\"\"\u001b[39m)\n\u001b[1;32m----> 4\u001b[0m \u001b[38;5;28;01mimport\u001b[39;00m \u001b[38;5;21;01mareallyourpetsnamederic\u001b[39;00m\n\u001b[0;32m      6\u001b[0m \u001b[38;5;28;01mdef\u001b[39;00m \u001b[38;5;21mgreet\u001b[39m():\n\u001b[0;32m      7\u001b[0m     \u001b[38;5;28mprint\u001b[39m(areallyourpetsnamederic\u001b[38;5;241m.\u001b[39mgreeting)\n",
      "\u001b[1;31mModuleNotFoundError\u001b[0m: No module named 'areallyourpetsnamederic'"
     ]
    }
   ],
   "source": [
    "print(\"\"\"The sentence import areallyourpetsnamederic is a Python import statement that attempts to import a\n",
    "module (library) named areallyourpetsnamederic.\"\"\")\n",
    "\n",
    "import areallyourpetsnamederic\n",
    "\n",
    "def greet():\n",
    "    print(areallyourpetsnamederic.greeting)\n",
    "\n",
    "greet()\n"
   ]
  },
  {
   "cell_type": "markdown",
   "id": "ab40a577",
   "metadata": {},
   "source": [
    "# 12. If you had a bacon() feature in a spam module, what would you call it after importing spam?"
   ]
  },
  {
   "cell_type": "code",
   "execution_count": 19,
   "id": "6f69434b",
   "metadata": {},
   "outputs": [
    {
     "name": "stdout",
     "output_type": "stream",
     "text": [
      "To call the bacon() function inside a module named spam, we first need to import the spam module using the import statement.\n"
     ]
    }
   ],
   "source": [
    "print(\"\"\"To call the bacon() function inside a module named spam, we first need to import the spam module using the import statement.\"\"\")"
   ]
  },
  {
   "cell_type": "markdown",
   "id": "3edb0d64",
   "metadata": {},
   "source": [
    "# 13. What can you do to save a programme from crashing if it encounters an error?"
   ]
  },
  {
   "cell_type": "markdown",
   "id": "75db64c8",
   "metadata": {},
   "source": [
    "* Try-except blocks: We can use a try-except block to catch and handle exceptions that might occur in our program. This allows us to gracefully handle errors and prevent the program from crashing.\n",
    "\n",
    "* Debugging: Debugging our code can help us to identify and fix errors before they cause the program to crash. We can use a debugger to step through our code, inspect variables, and find the root cause of the error.\n",
    "\n",
    "* Unit testing: Unit testing is a technique that involves writing small tests to verify that individual units of our code are working correctly. This can help us to catch and fix errors before they cause the program to crash.\n",
    "\n",
    "* Logging: We can use logging to record important events and error messages in our program. This can help us  understand what went wrong when the program crashed and make it easier to debug and fix errors."
   ]
  },
  {
   "cell_type": "markdown",
   "id": "8be468af",
   "metadata": {},
   "source": [
    "# 14. What is the purpose of the try clause? What is the purpose of the except clause?"
   ]
  },
  {
   "cell_type": "code",
   "execution_count": 21,
   "id": "bd3be62d",
   "metadata": {},
   "outputs": [
    {
     "name": "stdout",
     "output_type": "stream",
     "text": [
      "The try clause in Python is used to specify a block of code that should be executed, and the except clause is used to \n",
      "specify a block of code that should be executed if an exception occurs during the execution of the try clause.\n",
      "---------\n",
      "Division by zero is not allowed!\n"
     ]
    }
   ],
   "source": [
    "print(\"\"\"The try clause in Python is used to specify a block of code that should be executed, and the except clause is used to \n",
    "specify a block of code that should be executed if an exception occurs during the execution of the try clause.\"\"\")\n",
    "print(\"---------\")\n",
    "try:\n",
    "    x = 1 / 0 \n",
    "except ZeroDivisionError:\n",
    "    print(\"Division by zero is not allowed!\")\n",
    "except:\n",
    "    print(\"An unknown error occurred!\")\n"
   ]
  },
  {
   "cell_type": "code",
   "execution_count": null,
   "id": "70ee3227",
   "metadata": {},
   "outputs": [],
   "source": []
  }
 ],
 "metadata": {
  "kernelspec": {
   "display_name": "Python 3 (ipykernel)",
   "language": "python",
   "name": "python3"
  },
  "language_info": {
   "codemirror_mode": {
    "name": "ipython",
    "version": 3
   },
   "file_extension": ".py",
   "mimetype": "text/x-python",
   "name": "python",
   "nbconvert_exporter": "python",
   "pygments_lexer": "ipython3",
   "version": "3.9.12"
  }
 },
 "nbformat": 4,
 "nbformat_minor": 5
}
